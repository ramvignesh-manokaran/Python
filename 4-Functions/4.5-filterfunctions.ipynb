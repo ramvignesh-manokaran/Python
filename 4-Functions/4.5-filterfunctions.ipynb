{
 "cells": [
  {
   "cell_type": "markdown",
   "id": "1697023c",
   "metadata": {},
   "source": [
    "### The filter() function in Python"
   ]
  },
  {
   "cell_type": "markdown",
   "id": "7d9984f4",
   "metadata": {},
   "source": [
    "The filter() function constructs an iterator from elements of an iterable for which a function returns true. It is used to filter out items from a list (or any other iterable) based on a condition."
   ]
  },
  {
   "cell_type": "code",
   "execution_count": 1,
   "id": "d1410b54",
   "metadata": {},
   "outputs": [],
   "source": [
    "def even(num):\n",
    "    return num % 2 == 0"
   ]
  },
  {
   "cell_type": "code",
   "execution_count": 2,
   "id": "9a7d7607",
   "metadata": {},
   "outputs": [
    {
     "data": {
      "text/plain": [
       "True"
      ]
     },
     "execution_count": 2,
     "metadata": {},
     "output_type": "execute_result"
    }
   ],
   "source": [
    "even(24)"
   ]
  },
  {
   "cell_type": "code",
   "execution_count": 3,
   "id": "820c16be",
   "metadata": {},
   "outputs": [
    {
     "name": "stdout",
     "output_type": "stream",
     "text": [
      "<class 'filter'>\n",
      "<class 'list'>\n",
      "[2, 4, 6, 8, 10]\n"
     ]
    }
   ],
   "source": [
    "lst= [1, 2, 3, 4, 5, 6, 7, 8, 9, 10]\n",
    "filtered_even = filter(even, lst)\n",
    "print(type(filtered_even))  # <class 'filter'>\n",
    "even_numbers = list(filtered_even)\n",
    "print(type(even_numbers))  # <class 'list'>\n",
    "print(even_numbers)  # Output: [2, 4, 6, 8, 10]"
   ]
  },
  {
   "cell_type": "code",
   "execution_count": 4,
   "id": "dbb640ba",
   "metadata": {},
   "outputs": [
    {
     "name": "stdout",
     "output_type": "stream",
     "text": [
      "<class 'filter'>\n",
      "<class 'list'>\n",
      "[2, 4, 6, 8, 10]\n"
     ]
    }
   ],
   "source": [
    "## filter with lambda function\n",
    "filtered_even_lambda = filter(lambda x: x % 2 == 0, lst)\n",
    "print(type(filtered_even_lambda))  # <class 'filter'>\n",
    "even_numbers_lambda = list(filtered_even_lambda)\n",
    "print(type(even_numbers_lambda))  # <class 'list'>\n",
    "print(even_numbers_lambda)  # Output: [2, 4, 6, 8, 10]|"
   ]
  },
  {
   "cell_type": "code",
   "execution_count": 5,
   "id": "cde17358",
   "metadata": {},
   "outputs": [
    {
     "name": "stdout",
     "output_type": "stream",
     "text": [
      "<class 'filter'>\n",
      "<class 'list'>\n",
      "[6, 7, 8, 9, 10]\n"
     ]
    }
   ],
   "source": [
    "numbers= [1, 2, 3, 4, 5, 6, 7, 8, 9, 10]\n",
    "greater_than_five = filter(lambda x: x > 5, numbers)\n",
    "print(type(greater_than_five))  # <class 'filter'>\n",
    "greater_than_five_list = list(greater_than_five)\n",
    "print(type(greater_than_five_list))  # <class 'list'>\n",
    "print(greater_than_five_list)  # Output: [6, 7, 8, 9, 10]\n"
   ]
  },
  {
   "cell_type": "code",
   "execution_count": 6,
   "id": "7679509b",
   "metadata": {},
   "outputs": [
    {
     "name": "stdout",
     "output_type": "stream",
     "text": [
      "<class 'filter'>\n",
      "<class 'list'>\n",
      "[6, 8, 10]\n"
     ]
    }
   ],
   "source": [
    "## Filter with lambda function and multiple conditions\n",
    "numbers = [1, 2, 3, 4, 5, 6, 7, 8, 9, 10]\n",
    "greater_than_five_and_even = filter(lambda x: x > 5 and x % 2 == 0, numbers)\n",
    "print(type(greater_than_five_and_even))  # <class 'filter'>\n",
    "greater_than_five_and_even_list = list(greater_than_five_and_even)\n",
    "print(type(greater_than_five_and_even_list))  # <class 'list'>\n",
    "print(greater_than_five_and_even_list)  # Output: [6, 8, 10]"
   ]
  },
  {
   "cell_type": "code",
   "execution_count": 8,
   "id": "93e3956b",
   "metadata": {},
   "outputs": [
    {
     "name": "stdout",
     "output_type": "stream",
     "text": [
      "[{'name': 'Alice', 'age': 30}, {'name': 'Charlie', 'age': 28}]\n"
     ]
    }
   ],
   "source": [
    "## Filter to check if age > 25 in dictionaries\n",
    "\n",
    "people = [\n",
    "    {\"name\": \"Alice\", \"age\": 30},\n",
    "    {\"name\": \"Bob\", \"age\": 22},\n",
    "    {\"name\": \"Charlie\", \"age\": 28},\n",
    "    {\"name\": \"David\", \"age\": 20}\n",
    "]\n",
    "adults = filter(lambda person: person[\"age\"] > 25, people)\n",
    "adults_list = list(adults)\n",
    "print(adults_list)  # Output: [{'name': 'Alice', 'age': 30}, {'name': 'Charlie', 'age': 28}]    "
   ]
  },
  {
   "cell_type": "markdown",
   "id": "0af07d01",
   "metadata": {},
   "source": [
    "### Conclusion"
   ]
  },
  {
   "cell_type": "markdown",
   "id": "ffabe579",
   "metadata": {},
   "source": [
    "The filter() function is a powerful tool for creating iterators that filter items out of an iterable based on a function. It is commonly used for data cleaning, filtering objects, and removing unwanted elements from lists. By mastering filter(), you can write more concise and efficient code for processing and manipulating collections in Python."
   ]
  }
 ],
 "metadata": {
  "kernelspec": {
   "display_name": "Python 3",
   "language": "python",
   "name": "python3"
  },
  "language_info": {
   "codemirror_mode": {
    "name": "ipython",
    "version": 3
   },
   "file_extension": ".py",
   "mimetype": "text/x-python",
   "name": "python",
   "nbconvert_exporter": "python",
   "pygments_lexer": "ipython3",
   "version": "3.12.0"
  }
 },
 "nbformat": 4,
 "nbformat_minor": 5
}

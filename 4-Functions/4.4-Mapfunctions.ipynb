{
 "cells": [
  {
   "cell_type": "markdown",
   "id": "98a1e042",
   "metadata": {},
   "source": [
    "### The map() Function in Python"
   ]
  },
  {
   "cell_type": "markdown",
   "id": "e38cc750",
   "metadata": {},
   "source": [
    "The map() function applies a given function to all items in an input list (or any other iterable) and returns a map object (an iterator). This is particularly useful for transforming data in a list comprehensively."
   ]
  },
  {
   "cell_type": "code",
   "execution_count": null,
   "id": "8b9d7230",
   "metadata": {},
   "outputs": [
    {
     "name": "stdout",
     "output_type": "stream",
     "text": [
      "25\n"
     ]
    }
   ],
   "source": [
    "def square(x):\n",
    "    return x * x\n",
    "\n",
    "# Example usage:\n",
    "print(square(5))  # Output: 25\n"
   ]
  },
  {
   "cell_type": "code",
   "execution_count": null,
   "id": "4b7132b1",
   "metadata": {},
   "outputs": [
    {
     "name": "stdout",
     "output_type": "stream",
     "text": [
      "<class 'map'>\n",
      "<class 'list'>\n",
      "[1, 4, 9, 16, 25]\n"
     ]
    }
   ],
   "source": [
    "numbers = [1, 2, 3, 4, 5]\n",
    "mapped_squares = (map(square, numbers))\n",
    "print(type(mapped_squares))  # <class 'map'>\n",
    "\n",
    "squared_numbers = list(mapped_squares)\n",
    "print(type(squared_numbers))  # <class 'list'>\n",
    "print(squared_numbers)  # Output: [1, 4, 9, 16, 25]"
   ]
  },
  {
   "cell_type": "code",
   "execution_count": 5,
   "id": "51e61fe1",
   "metadata": {},
   "outputs": [
    {
     "name": "stdout",
     "output_type": "stream",
     "text": [
      "<class 'map'>\n",
      "<class 'list'>\n",
      "[1, 4, 9, 16, 25]\n"
     ]
    }
   ],
   "source": [
    "## Lambda function with map\n",
    "mapped_squares_lambda = (map(lambda x: x*x, numbers))\n",
    "print(type(mapped_squares_lambda))  # <class 'map'>\n",
    "squared_numbers_lambda = list(mapped_squares_lambda)\n",
    "print(type(squared_numbers_lambda))  # <class 'list'>\n",
    "print(squared_numbers_lambda)  # Output: [1, 4, 9, 16, 25]"
   ]
  },
  {
   "cell_type": "code",
   "execution_count": 6,
   "id": "4341cf6d",
   "metadata": {},
   "outputs": [
    {
     "name": "stdout",
     "output_type": "stream",
     "text": [
      "<class 'map'>\n",
      "<class 'list'>\n",
      "[5, 7, 9]\n"
     ]
    }
   ],
   "source": [
    "### MAP multiple iterables\n",
    "\n",
    "numbers1 = [1, 2, 3]\n",
    "numbers2 = [4, 5, 6]\n",
    "mapped_sum = map(lambda x, y: x + y, numbers1, numbers2)\n",
    "print(type(mapped_sum))  # <class 'map'>\n",
    "summed_numbers = list(mapped_sum)\n",
    "print(type(summed_numbers))  # <class 'list'>\n",
    "print(summed_numbers)  # Output: [5, 7, 9]"
   ]
  },
  {
   "cell_type": "code",
   "execution_count": 7,
   "id": "050c6344",
   "metadata": {},
   "outputs": [
    {
     "name": "stdout",
     "output_type": "stream",
     "text": [
      "<class 'map'>\n",
      "<class 'list'>\n",
      "[1, 2, 3, 4, 5]\n"
     ]
    }
   ],
   "source": [
    "## map() to convert list of strings to integers\n",
    "string_numbers = ['1', '2', '3', '4', '5']\n",
    "mapped_integers = map(int, string_numbers)\n",
    "print(type(mapped_integers))  # <class 'map'>\n",
    "integer_numbers = list(mapped_integers)\n",
    "print(type(integer_numbers))  # <class 'list'>\n",
    "print(integer_numbers)  # Output: [1, 2, 3, 4, 5]"
   ]
  },
  {
   "cell_type": "code",
   "execution_count": 8,
   "id": "862fab59",
   "metadata": {},
   "outputs": [
    {
     "name": "stdout",
     "output_type": "stream",
     "text": [
      "<class 'map'>\n",
      "<class 'list'>\n",
      "['APPLE', 'BANANA', 'CHERRY']\n"
     ]
    }
   ],
   "source": [
    "words = ['apple', 'banana', 'cherry']\n",
    "mapped_upper = map(str.upper, words)\n",
    "print(type(mapped_upper))  # <class 'map'>\n",
    "upper_words = list(mapped_upper)\n",
    "print(type(upper_words))  # <class 'list'>\n",
    "print(upper_words)  # Output: ['APPLE', 'BANANA', 'CHERRY']"
   ]
  },
  {
   "cell_type": "code",
   "execution_count": 9,
   "id": "0c2d7eb3",
   "metadata": {},
   "outputs": [
    {
     "name": "stdout",
     "output_type": "stream",
     "text": [
      "<class 'map'>\n",
      "<class 'list'>\n",
      "['Alice', 'Bob', 'Charlie']\n"
     ]
    }
   ],
   "source": [
    "def get_name(person):\n",
    "    return person['name']\n",
    "\n",
    "people = [{'name': 'Alice', 'age': 30}, {'name': 'Bob', 'age': 25}, {'name': 'Charlie', 'age': 35}]\n",
    "\n",
    "mapped_names = map(get_name, people)\n",
    "print(type(mapped_names))  # <class 'map'>\n",
    "names_list = list(mapped_names)\n",
    "print(type(names_list))  # <class 'list'>\n",
    "print(names_list)  # Output: ['Alice', 'Bob', 'Charlie']"
   ]
  },
  {
   "cell_type": "markdown",
   "id": "5609697e",
   "metadata": {},
   "source": [
    "### Conclusion"
   ]
  },
  {
   "cell_type": "markdown",
   "id": "d8ef6342",
   "metadata": {},
   "source": [
    "The map() function is a powerful tool for applying transformations to iterable data structures. It can be used with regular functions, lambda functions, and even multiple iterables, providing a versatile approach to data processing in Python. By understanding and utilizing map(), you can write more efficient and readable code."
   ]
  }
 ],
 "metadata": {
  "kernelspec": {
   "display_name": "Python 3",
   "language": "python",
   "name": "python3"
  },
  "language_info": {
   "codemirror_mode": {
    "name": "ipython",
    "version": 3
   },
   "file_extension": ".py",
   "mimetype": "text/x-python",
   "name": "python",
   "nbconvert_exporter": "python",
   "pygments_lexer": "ipython3",
   "version": "3.12.0"
  }
 },
 "nbformat": 4,
 "nbformat_minor": 5
}

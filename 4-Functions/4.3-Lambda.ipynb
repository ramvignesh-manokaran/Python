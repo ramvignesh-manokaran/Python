{
 "cells": [
  {
   "cell_type": "markdown",
   "id": "2073330f",
   "metadata": {},
   "source": [
    "### Lambda Functions"
   ]
  },
  {
   "cell_type": "markdown",
   "id": "9c35e0ea",
   "metadata": {},
   "source": [
    "Lambda functions are small anonymous functions defined using the lambda keyword. They can have any number of arguments but only one expression. They are commonly used for short operations or as arguments to higher-order functions."
   ]
  },
  {
   "cell_type": "code",
   "execution_count": 1,
   "id": "6528eb13",
   "metadata": {},
   "outputs": [
    {
     "data": {
      "text/plain": [
       "<function __main__.<lambda>(arguments)>"
      ]
     },
     "execution_count": 1,
     "metadata": {},
     "output_type": "execute_result"
    }
   ],
   "source": [
    "#Syntax\n",
    "lambda arguments: expression"
   ]
  },
  {
   "cell_type": "code",
   "execution_count": 2,
   "id": "8112fe0f",
   "metadata": {},
   "outputs": [],
   "source": [
    "def add(x, y):\n",
    "    return x + y"
   ]
  },
  {
   "cell_type": "code",
   "execution_count": 9,
   "id": "f5e2ed6a",
   "metadata": {},
   "outputs": [
    {
     "name": "stdout",
     "output_type": "stream",
     "text": [
      "<class 'function'>\n"
     ]
    }
   ],
   "source": [
    "add(2, 3)\n",
    "print(type(add))  # <class 'function'>"
   ]
  },
  {
   "cell_type": "code",
   "execution_count": 8,
   "id": "abd16232",
   "metadata": {},
   "outputs": [
    {
     "name": "stdout",
     "output_type": "stream",
     "text": [
      "5\n",
      "<class 'function'>\n"
     ]
    }
   ],
   "source": [
    "lambda_add = lambda x, y: x + y ## This is a lambda function\n",
    "# This is equivalent to the add function above\n",
    "# It can be used in the same way as a normal function\n",
    "# It is often used for short, throwaway functions\n",
    "\n",
    "# Example usage:\n",
    "print (lambda_add(2, 3))\n",
    "\n",
    "print(type(lambda_add))  # <class 'function'>"
   ]
  },
  {
   "cell_type": "code",
   "execution_count": 10,
   "id": "1cc3eb58",
   "metadata": {},
   "outputs": [
    {
     "name": "stdout",
     "output_type": "stream",
     "text": [
      "even\n",
      "odd\n"
     ]
    }
   ],
   "source": [
    "def even_or_odd(n):\n",
    "    return \"even\" if n % 2 == 0 else \"odd\"\n",
    "\n",
    "even_or_odd_lambda = lambda n: \"even\" if n % 2 == 0 else \"odd\"\n",
    "# Example usage:\n",
    "print(even_or_odd_lambda(4))  # Output: even\n",
    "print(even_or_odd_lambda(5))  # Output: odd"
   ]
  },
  {
   "cell_type": "code",
   "execution_count": 14,
   "id": "4ccc51ec",
   "metadata": {},
   "outputs": [
    {
     "data": {
      "text/plain": [
       "9"
      ]
     },
     "execution_count": 14,
     "metadata": {},
     "output_type": "execute_result"
    }
   ],
   "source": [
    "def add(x, y, z):\n",
    "    return x + y + z\n",
    "\n",
    "add(2, 3, 4 )"
   ]
  },
  {
   "cell_type": "code",
   "execution_count": 15,
   "id": "2b81bf4d",
   "metadata": {},
   "outputs": [
    {
     "name": "stdout",
     "output_type": "stream",
     "text": [
      "9\n"
     ]
    }
   ],
   "source": [
    "addition = lambda x,y,z : x + y + z\n",
    "# Example usage:\n",
    "print(addition(2, 3, 4))  # Output: 9"
   ]
  },
  {
   "cell_type": "code",
   "execution_count": 21,
   "id": "27d72b9f",
   "metadata": {},
   "outputs": [
    {
     "name": "stdout",
     "output_type": "stream",
     "text": [
      "<class 'map'>\n",
      "<class 'list'>\n",
      "[1, 4, 9, 16, 25]\n"
     ]
    }
   ],
   "source": [
    "## map() - applies a function to all items in an input list\n",
    "# Example usage:\n",
    "# Using a lambda function with map to square each number in a list\n",
    "numbers = [1, 2, 3, 4, 5]\n",
    "mapped_squares = (map(lambda x: x**2, numbers))\n",
    "print(type(mapped_squares)) \n",
    "squared_numbers = list(mapped_squares)\n",
    "print(type(squared_numbers))  # <class 'list'>\n",
    "print(squared_numbers)  # Output: [1, 4, 9, 16, 25]"
   ]
  }
 ],
 "metadata": {
  "kernelspec": {
   "display_name": "Python 3",
   "language": "python",
   "name": "python3"
  },
  "language_info": {
   "codemirror_mode": {
    "name": "ipython",
    "version": 3
   },
   "file_extension": ".py",
   "mimetype": "text/x-python",
   "name": "python",
   "nbconvert_exporter": "python",
   "pygments_lexer": "ipython3",
   "version": "3.12.0"
  }
 },
 "nbformat": 4,
 "nbformat_minor": 5
}

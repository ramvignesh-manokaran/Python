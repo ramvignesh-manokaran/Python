{
 "cells": [
  {
   "cell_type": "markdown",
   "id": "c6a91d06",
   "metadata": {},
   "source": [
    "### Function Examples"
   ]
  },
  {
   "cell_type": "code",
   "execution_count": 5,
   "id": "c93118b9",
   "metadata": {},
   "outputs": [
    {
     "name": "stdout",
     "output_type": "stream",
     "text": [
      "32.0\n",
      "0.0\n",
      "212.0\n",
      "0.0\n"
     ]
    }
   ],
   "source": [
    "## Temperature Conversion\n",
    "\n",
    "def celsius_to_fahrenheit(celsius):\n",
    "    \"\"\"Convert Celsius to Fahrenheit.\"\"\"\n",
    "    return (celsius * 9/5) + 32\n",
    "\n",
    "def fahrenheit_to_celsius(fahrenheit):\n",
    "    \"\"\"Convert Fahrenheit to Celsius.\"\"\"\n",
    "    return (fahrenheit - 32) * 5/9\n",
    "\n",
    "def convert_temperature(value, to_scale):\n",
    "    \"\"\"Convert temperature between Celsius and Fahrenheit.\"\"\"\n",
    "    if to_scale == \"F\":\n",
    "        return celsius_to_fahrenheit(value)\n",
    "    elif to_scale == \"C\":\n",
    "        return fahrenheit_to_celsius(value)\n",
    "    else:\n",
    "        raise ValueError(\"Invalid scale. Use 'C' or 'F'.\")\n",
    "# Example usage\n",
    "if __name__ == \"__main__\":\n",
    "    print(convert_temperature(0, \"F\"))   # Output: 32.0\n",
    "    print(convert_temperature(32, \"C\"))  # Output: 0.0\n",
    "\n",
    "    print(convert_temperature(100, \"F\"))  # Output: 212.0\n",
    "    print(convert_temperature(32, \"C\"))   # Output: 0.0\n",
    "\n",
    "    #print(convert_temperature(37, \"G\"))   # Raises ValueError: Invalid scale. Use 'C' or 'F'."
   ]
  },
  {
   "cell_type": "code",
   "execution_count": 6,
   "id": "09dc686b",
   "metadata": {},
   "outputs": [
    {
     "name": "stdout",
     "output_type": "stream",
     "text": [
      "Strong: Password meets all criteria.\n",
      "Weak: Password must contain at least one digit.\n",
      "Weak: Password must contain at least one uppercase letter.\n",
      "Weak: Password must contain at least one lowercase letter.\n",
      "Weak: Password must be at least 8 characters long.\n"
     ]
    }
   ],
   "source": [
    "## Password Strength Checker\n",
    "\n",
    "def check_password_strength(password):\n",
    "    \"\"\"Check the strength of a password.\"\"\"\n",
    "    if len(password) < 8:\n",
    "        return \"Weak: Password must be at least 8 characters long.\"\n",
    "    if not any(char.isdigit() for char in password):\n",
    "        return \"Weak: Password must contain at least one digit.\"\n",
    "    if not any(char.isupper() for char in password):\n",
    "        return \"Weak: Password must contain at least one uppercase letter.\"\n",
    "    if not any(char.islower() for char in password):\n",
    "        return \"Weak: Password must contain at least one lowercase letter.\"\n",
    "    if not any(char in \"!@#$%^&*()-_=+[]{}|;:,.<>?/\" for char in password):\n",
    "        return \"Weak: Password must contain at least one special character.\"\n",
    "    return \"Strong: Password meets all criteria.\"\n",
    "# Example usage\n",
    "if __name__ == \"__main__\":\n",
    "    print(check_password_strength(\"Password123!\"))  # Output: Strong: Password meets all criteria.\n",
    "    print(check_password_strength(\"weakpass\"))        # Output: Weak: Password must contain at least one digit.\n",
    "    print(check_password_strength(\"12345678\"))       # Output: Weak: Password must contain at least one uppercase letter.\n",
    "    print(check_password_strength(\"PASSWORD123!\"))   # Output: Weak: Password must contain at least one lowercase letter.\n",
    "    print(check_password_strength(\"Pass123\"))         # Output: Weak: Password must be at least 8 characters long."
   ]
  },
  {
   "cell_type": "code",
   "execution_count": 10,
   "id": "b9432078",
   "metadata": {},
   "outputs": [
    {
     "name": "stdout",
     "output_type": "stream",
     "text": [
      "6.2\n"
     ]
    }
   ],
   "source": [
    "## Calculate total price of items in a shopping cart\n",
    "\n",
    "def calculate_total(cart_items):\n",
    "    \"\"\"Calculate the total price of items in the shopping cart.\"\"\"\n",
    "    return sum(item['price'] * item['quantity'] for item in cart_items)\n",
    "\n",
    "# Example usage\n",
    "if __name__ == \"__main__\":\n",
    "    shopping_cart = [\n",
    "        {\"name\": \"Apple\", \"price\": 0.5, \"quantity\": 4},\n",
    "        {\"name\": \"Banana\", \"price\": 0.3, \"quantity\": 6},\n",
    "        {\"name\": \"Orange\", \"price\": 0.8, \"quantity\": 3},\n",
    "    ]\n",
    "    print(calculate_total(shopping_cart))  # Output: 5.4    "
   ]
  },
  {
   "cell_type": "code",
   "execution_count": 8,
   "id": "235540b4",
   "metadata": {},
   "outputs": [
    {
     "name": "stdout",
     "output_type": "stream",
     "text": [
      "True\n",
      "False\n"
     ]
    }
   ],
   "source": [
    "## Check if a String is a Palindrome\n",
    "def is_palindrome(s):\n",
    "    \"\"\"Check if a string is a palindrome.\"\"\"\n",
    "    s = s.lower().replace(\" \", \"\")  # Normalize the string\n",
    "    return s == s[::-1]\n",
    "\n",
    "# Example usage\n",
    "if __name__ == \"__main__\":\n",
    "    print(is_palindrome(\"A man a plan a canal Panama\"))  # Output: True\n",
    "    print(is_palindrome(\"Hello World\"))                    # Output: False\n"
   ]
  },
  {
   "cell_type": "code",
   "execution_count": 11,
   "id": "2f0c6048",
   "metadata": {},
   "outputs": [
    {
     "name": "stdout",
     "output_type": "stream",
     "text": [
      "120\n",
      "1\n"
     ]
    }
   ],
   "source": [
    "## Calculate Factorial of a Number using Recursion\n",
    "def factorial(n):\n",
    "    \"\"\"Calculate the factorial of a number using recursion.\"\"\"\n",
    "    if n == 0:\n",
    "        return 1\n",
    "    else:   \n",
    "        return n * factorial(n-1)\n",
    "\n",
    "# Example usage\n",
    "if __name__ == \"__main__\":\n",
    "    print(factorial(5))  # Output: 120\n",
    "    print(factorial(0))  # Output: 1\n"
   ]
  },
  {
   "cell_type": "code",
   "execution_count": 16,
   "id": "3d2b1b3d",
   "metadata": {},
   "outputs": [
    {
     "name": "stdout",
     "output_type": "stream",
     "text": [
      "a: 3\n",
      "man: 1\n",
      "plan: 1\n",
      "canal: 1\n",
      "panama: 1\n"
     ]
    }
   ],
   "source": [
    "## Function to read a file and count the frequency of each word\n",
    "def count_word_frequency(file_path):\n",
    "    \"\"\"Count the frequency of each word in a file.\"\"\"\n",
    "    word_count = {}  # Dictionary to store word counts\n",
    "    try:\n",
    "        with open(file_path, 'r') as file:\n",
    "            for line in file:  # Read each line in the file\n",
    "                words = line.split()  # Split the line into words\n",
    "                for word in words:  # Normalize and count each word\n",
    "                    word = word.lower().strip('.,!?\";:()[]{}')  # Normalize the word\n",
    "                    if word:\n",
    "                        word_count[word] = word_count.get(word, 0) + 1\n",
    "    except FileNotFoundError:\n",
    "        print(f\"File not found: {file_path}\")\n",
    "    return word_count\n",
    "# Example usage\n",
    "if __name__ == \"__main__\":\n",
    "    file_path = '4.2.1-input-file-example.txt'  # Replace with your file path\n",
    "    word_frequency = count_word_frequency(file_path)\n",
    "    for word, count in word_frequency.items():\n",
    "        print(f\"{word}: {count}\")"
   ]
  },
  {
   "cell_type": "code",
   "execution_count": 20,
   "id": "36636c01",
   "metadata": {},
   "outputs": [
    {
     "name": "stdout",
     "output_type": "stream",
     "text": [
      "True\n",
      "False\n"
     ]
    }
   ],
   "source": [
    "## Validate Email Address\n",
    "\n",
    "def is_valid_email(email):\n",
    "    \"\"\"Check if an email address is valid.\"\"\"\n",
    "    import re\n",
    "    # Regular expression for validating an email address\n",
    "    email_regex = r'^[a-zA-Z0-9._%+-]+@[a-zA-Z0-9.-]+\\.[a-zA-Z]{2,}$'\n",
    "    return re.match(email_regex, email) is not None \n",
    "\n",
    "print(is_valid_email(\"email@example.com\"))  # Output: True\n",
    "print(is_valid_email(\"invalid-email\"))       # Output: False"
   ]
  },
  {
   "cell_type": "code",
   "execution_count": null,
   "id": "c84df74a",
   "metadata": {},
   "outputs": [],
   "source": []
  }
 ],
 "metadata": {
  "kernelspec": {
   "display_name": "Python 3",
   "language": "python",
   "name": "python3"
  },
  "language_info": {
   "codemirror_mode": {
    "name": "ipython",
    "version": 3
   },
   "file_extension": ".py",
   "mimetype": "text/x-python",
   "name": "python",
   "nbconvert_exporter": "python",
   "pygments_lexer": "ipython3",
   "version": "3.12.0"
  }
 },
 "nbformat": 4,
 "nbformat_minor": 5
}

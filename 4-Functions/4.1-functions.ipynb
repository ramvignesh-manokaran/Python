{
 "cells": [
  {
   "cell_type": "markdown",
   "id": "82ce64b6",
   "metadata": {},
   "source": [
    "### Functions in Python"
   ]
  },
  {
   "cell_type": "markdown",
   "id": "e7ef9387",
   "metadata": {},
   "source": [
    "Outline:\n",
    "\n",
    "    Introduction to Functions\n",
    "    Defining Functions\n",
    "    Calling Functions\n",
    "    Function Parameters\n",
    "    Default Parameters\n",
    "    Variable-Length Arguments\n",
    "    Return Statement\n",
    "\n"
   ]
  },
  {
   "cell_type": "markdown",
   "id": "5f1bf94d",
   "metadata": {},
   "source": [
    "\n",
    "Introduction to Functions\n",
    "\n",
    "Definition:\n",
    "\n",
    "A function is a block of code that performs a specific task. Functions help in organizing code, reusing code, and improving readability.\n"
   ]
  },
  {
   "cell_type": "code",
   "execution_count": 1,
   "id": "d3e7c8e0",
   "metadata": {},
   "outputs": [],
   "source": [
    "def function_name(parameters):\n",
    "    \"\"\"Docstring for function_name.\"\"\"\n",
    "    # Function body\n",
    "    return parameters  ## expression"
   ]
  },
  {
   "cell_type": "code",
   "execution_count": 2,
   "id": "2b0fac9e",
   "metadata": {},
   "outputs": [
    {
     "data": {
      "text/plain": [
       "1"
      ]
     },
     "execution_count": 2,
     "metadata": {},
     "output_type": "execute_result"
    }
   ],
   "source": [
    "function_name(1)"
   ]
  },
  {
   "cell_type": "code",
   "execution_count": 9,
   "id": "293055db",
   "metadata": {},
   "outputs": [],
   "source": [
    "## why do we need functions?\n",
    "# - Code reuse\n",
    "# - Code organization\n",
    "# - Code readability\n",
    "# - Code testing   \n",
    "# - Code debugging\n",
    "# - Code documentation\n",
    "# - Code performance\n",
    "# - Code scalability\n",
    "\n"
   ]
  },
  {
   "cell_type": "code",
   "execution_count": null,
   "id": "3e9d42f7",
   "metadata": {},
   "outputs": [
    {
     "name": "stdout",
     "output_type": "stream",
     "text": [
      "24 is even\n"
     ]
    }
   ],
   "source": [
    "\n",
    "num=24\n",
    "if num % 2 == 0:\n",
    "    print(f\"{num} is even\")\n",
    "else:\n",
    "    print(f\"{num} is odd\")"
   ]
  },
  {
   "cell_type": "code",
   "execution_count": 4,
   "id": "86aaa20f",
   "metadata": {},
   "outputs": [],
   "source": [
    "def is_even(num):\n",
    "    \"\"\"Check if a number is even.\"\"\"\n",
    "    return num % 2 == 0\n",
    "\n",
    "def is_odd(num):\n",
    "    \"\"\"Check if a number is odd.\"\"\"\n",
    "    return num % 2 != 0 \n",
    "\n",
    "def check_number(num):\n",
    "    \"\"\"Check if a number is even or odd.\"\"\"\n",
    "    if is_even(num):\n",
    "        return f\"{num} is even\"\n",
    "    elif is_odd(num):\n",
    "        return f\"{num} is odd\"\n",
    "    else:\n",
    "        return \"Invalid number\" "
   ]
  },
  {
   "cell_type": "code",
   "execution_count": 8,
   "id": "8424087d",
   "metadata": {},
   "outputs": [
    {
     "name": "stdout",
     "output_type": "stream",
     "text": [
      "24 is even\n",
      "25 is odd\n",
      "0 is even\n",
      "-1 is odd\n",
      "1.5 is odd\n"
     ]
    }
   ],
   "source": [
    "print(check_number(24))\n",
    "print(check_number(25))\n",
    "print(check_number(0))\n",
    "print(check_number(-1))\n",
    "print(check_number(1.5))"
   ]
  },
  {
   "cell_type": "code",
   "execution_count": 10,
   "id": "7ee112b0",
   "metadata": {},
   "outputs": [
    {
     "name": "stdout",
     "output_type": "stream",
     "text": [
      "8\n",
      "15\n",
      "Invalid operation\n"
     ]
    }
   ],
   "source": [
    "## function with multiple parameters\n",
    "def add_numbers(a, b):\n",
    "    \"\"\"Add two numbers.\"\"\"\n",
    "    return a + b\n",
    "\n",
    "def multiply_numbers(a, b):\n",
    "    \"\"\"Multiply two numbers.\"\"\"\n",
    "    return a * b\n",
    "\n",
    "def calculate(a, b, operation):\n",
    "    \"\"\"Perform a calculation based on the given operation.\"\"\"\n",
    "    if operation == \"add\":\n",
    "        return add_numbers(a, b)\n",
    "    elif operation == \"multiply\":\n",
    "        return multiply_numbers(a, b)\n",
    "    else:\n",
    "        return \"Invalid operation\"\n",
    "print(calculate(5, 3, \"add\"))        # Output: 8\n",
    "print(calculate(5, 3, \"multiply\"))   # Output: 15\n",
    "print(calculate(5, 3, \"subtract\"))   # Output: Invalid operation    "
   ]
  },
  {
   "cell_type": "code",
   "execution_count": 13,
   "id": "c2c9c723",
   "metadata": {},
   "outputs": [
    {
     "name": "stdout",
     "output_type": "stream",
     "text": [
      "Hello, World!\n",
      "Hello, Alice!\n"
     ]
    }
   ],
   "source": [
    "## Default parameters\n",
    "def greet(name=\"World\"):\n",
    "    \"\"\"Greet a person with a default name.\"\"\"\n",
    "    return f\"Hello, {name}!\"\n",
    "print(greet())          # Output: Hello, World!\n",
    "print(greet(\"Alice\"))  # Output: Hello, Alice!"
   ]
  },
  {
   "cell_type": "code",
   "execution_count": 14,
   "id": "47aa98ba",
   "metadata": {},
   "outputs": [
    {
     "name": "stdout",
     "output_type": "stream",
     "text": [
      "6\n",
      "15\n",
      "Hello World\n",
      "name: Alice\n",
      "age: 30\n",
      "city: New York\n",
      "110.0\n",
      "220.0\n",
      "120.0\n",
      "240.0\n"
     ]
    }
   ],
   "source": [
    "### variable-length arguments\n",
    "def sum_numbers(*args):\n",
    "    \"\"\"Sum a variable number of numbers.\"\"\"\n",
    "    return sum(args)    \n",
    "print(sum_numbers(1, 2, 3))          # Output: 6\n",
    "print(sum_numbers(1, 2, 3, 4, 5))    # Output: 15\n",
    "\n",
    "def concatenate_strings(*args):\n",
    "    \"\"\"Concatenate a variable number of strings.\"\"\"\n",
    "    return \" \".join(args)\n",
    "print(concatenate_strings(\"Hello\", \"World\"))  # Output: Hello World\n",
    "\n",
    "def print_info(**kwargs):\n",
    "    \"\"\"Print key-value pairs.\"\"\"\n",
    "    for key, value in kwargs.items():\n",
    "        print(f\"{key}: {value}\")\n",
    "print_info(name=\"Alice\", age=30, city=\"New York\")\n",
    "\n",
    "def calculate_total_price(price, quantity=1, tax_rate=0.1):\n",
    "    \"\"\"Calculate the total price with optional quantity and tax rate.\"\"\"\n",
    "    total = price * quantity\n",
    "    total += total * tax_rate\n",
    "    return total\n",
    "print(calculate_total_price(100))                # Output: 110.0\n",
    "print(calculate_total_price(100, quantity=2))   # Output: 220.0\n",
    "print(calculate_total_price(100, tax_rate=0.2)) # Output: 120.0\n",
    "print(calculate_total_price(100, 2, 0.2))  # Output: 240.0"
   ]
  },
  {
   "cell_type": "code",
   "execution_count": 16,
   "id": "1d7cd24d",
   "metadata": {},
   "outputs": [
    {
     "name": "stdout",
     "output_type": "stream",
     "text": [
      "Name: Alice, Age: 30, City: New York\n",
      "Name: Alice, Age: 30, City: New York\n",
      "Name: Alice, Age: 30, City: New York\n",
      "Name: Alice, Age: 30, City: New York\n"
     ]
    }
   ],
   "source": [
    "## positional and keyword arguments\n",
    "def display_info(name, age, city):\n",
    "    \"\"\"Display information about a person.\"\"\"\n",
    "    print(f\"Name: {name}, Age: {age}, City: {city}\")\n",
    "display_info(\"Alice\", 30, \"New York\")  # Positional arguments\n",
    "display_info(age=30, city=\"New York\", name=\"Alice\")  # Keyword arguments\n",
    "display_info(\"Alice\", city=\"New York\", age=30)  # Mixed arguments\n",
    "#display_info(name=\"Alice\", 30, \"New York\")  # Error: positional argument follows keyword argument\n",
    "display_info(\"Alice\", 30, city=\"New York\")  # Valid"
   ]
  },
  {
   "cell_type": "code",
   "execution_count": 17,
   "id": "ecc80aa9",
   "metadata": {},
   "outputs": [
    {
     "name": "stdout",
     "output_type": "stream",
     "text": [
      "25\n"
     ]
    }
   ],
   "source": [
    "## return statement\n",
    "def square(x):\n",
    "    \"\"\"Return the square of a number.\"\"\"\n",
    "    return x * x\n",
    "print(square(5))  # Output: 25"
   ]
  },
  {
   "cell_type": "code",
   "execution_count": 18,
   "id": "9281be16",
   "metadata": {},
   "outputs": [
    {
     "name": "stdout",
     "output_type": "stream",
     "text": [
      "Coordinates: (10, 20)\n"
     ]
    }
   ],
   "source": [
    "# return multiple values\n",
    "def get_coordinates():\n",
    "    \"\"\"Return x and y coordinates.\"\"\"\n",
    "    x = 10\n",
    "    y = 20\n",
    "    return x, y\n",
    "x, y = get_coordinates()\n",
    "print(f\"Coordinates: ({x}, {y})\")  # Output: Coordinates: (10, 20)"
   ]
  },
  {
   "cell_type": "code",
   "execution_count": null,
   "id": "0eb44d39",
   "metadata": {},
   "outputs": [],
   "source": []
  }
 ],
 "metadata": {
  "kernelspec": {
   "display_name": "Python 3",
   "language": "python",
   "name": "python3"
  },
  "language_info": {
   "codemirror_mode": {
    "name": "ipython",
    "version": 3
   },
   "file_extension": ".py",
   "mimetype": "text/x-python",
   "name": "python",
   "nbconvert_exporter": "python",
   "pygments_lexer": "ipython3",
   "version": "3.12.0"
  }
 },
 "nbformat": 4,
 "nbformat_minor": 5
}

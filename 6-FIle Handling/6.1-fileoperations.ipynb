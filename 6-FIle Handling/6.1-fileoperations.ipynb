{
 "cells": [
  {
   "cell_type": "markdown",
   "id": "9c9d0a17",
   "metadata": {},
   "source": [
    "### File Operation - Read and Write Files"
   ]
  },
  {
   "cell_type": "markdown",
   "id": "2acaa786",
   "metadata": {},
   "source": [
    "File handling is a crucial part of any programming language. Python provides built-in functions and methods to read from and write to files, both text and binary. This lesson will cover the basics of file handling, including reading and writing text files and binary files."
   ]
  },
  {
   "cell_type": "code",
   "execution_count": 2,
   "id": "0ec01d02",
   "metadata": {},
   "outputs": [
    {
     "name": "stdout",
     "output_type": "stream",
     "text": [
      "Hello How are you?\n",
      "I am good\n",
      "Krish is my name\n",
      "Welcome to the course\n"
     ]
    }
   ],
   "source": [
    "### Read a whole File\n",
    "\n",
    "with open('file.txt', 'r') as file:\n",
    "    content = file.read()\n",
    "    print(content)"
   ]
  },
  {
   "cell_type": "code",
   "execution_count": 4,
   "id": "dd6bb3fe",
   "metadata": {},
   "outputs": [
    {
     "name": "stdout",
     "output_type": "stream",
     "text": [
      "Hello How are you?\n",
      "I am good\n",
      "Krish is my name\n",
      "Welcome to the course\n"
     ]
    }
   ],
   "source": [
    "## Read a File Line by Line\n",
    "with open('file.txt', 'r') as file:\n",
    "    for line in file:\n",
    "        print(line.strip())  # Using strip() to remove any leading/trailing whitespace"
   ]
  },
  {
   "cell_type": "code",
   "execution_count": 9,
   "id": "651dc626",
   "metadata": {},
   "outputs": [],
   "source": [
    "## Open a File in Write Mode\n",
    "with open('file.txt', 'w') as file:\n",
    "    file.write(\"This is a new line added to the file.\\n\")\n",
    "    file.write(\"Another line added.\\n\")"
   ]
  },
  {
   "cell_type": "code",
   "execution_count": 10,
   "id": "e01ab7e9",
   "metadata": {},
   "outputs": [],
   "source": [
    "### Write to a File\n",
    "with open('file.txt', 'a') as file:  # 'a' mode is for appending\n",
    "    file.write(\"This line is appended to the file.\\n\")"
   ]
  },
  {
   "cell_type": "code",
   "execution_count": 11,
   "id": "8f360949",
   "metadata": {},
   "outputs": [],
   "source": [
    "### Writing a list of lines to a file\n",
    "lines = [\"Line 1\\n\", \"Line 2\\n\", \"Line 3\\n\"]\n",
    "with open('file.txt', 'a') as file:\n",
    "    file.writelines(lines)  # Write multiple lines at once"
   ]
  },
  {
   "cell_type": "code",
   "execution_count": 12,
   "id": "3d5a29df",
   "metadata": {},
   "outputs": [],
   "source": [
    "### Binary File\n",
    "data = b'\\x00\\x01\\x02\\x03\\x04\\x05\\x06\\x07\\x08\\x09'\n",
    "with open('file.bin', 'wb') as file:\n",
    "    file.write(data)"
   ]
  },
  {
   "cell_type": "code",
   "execution_count": 13,
   "id": "83d647fe",
   "metadata": {},
   "outputs": [
    {
     "name": "stdout",
     "output_type": "stream",
     "text": [
      "b'\\x00\\x01\\x02\\x03\\x04\\x05\\x06\\x07\\x08\\t'\n"
     ]
    }
   ],
   "source": [
    "### Reading a Binary File\n",
    "with open('file.bin', 'rb') as file:\n",
    "    binary_content = file.read()\n",
    "    print(binary_content)  # Output will be in bytes format"
   ]
  },
  {
   "cell_type": "code",
   "execution_count": null,
   "id": "71ab5d0f",
   "metadata": {},
   "outputs": [],
   "source": [
    "### Read the content from source text file and write it to a destination text file\n",
    "with open('file.txt', 'r') as source_file:\n",
    "    content = source_file.read()\n",
    "    \n",
    "with open('destination.txt', 'w') as destination_file:\n",
    "    destination_file.write(content) "
   ]
  },
  {
   "cell_type": "code",
   "execution_count": 15,
   "id": "17b004fc",
   "metadata": {},
   "outputs": [
    {
     "name": "stdout",
     "output_type": "stream",
     "text": [
      "Lines: 6, Words: 25, Characters: 114\n"
     ]
    }
   ],
   "source": [
    "### Read a text file and count the number of lines, words and characters\n",
    "with open('file.txt', 'r') as file:\n",
    "    lines = file.readlines()\n",
    "    num_lines = len(lines)\n",
    "    num_words = sum(len(line.split()) for line in lines)\n",
    "    num_chars = sum(len(line) for line in lines)\n",
    "    print(f\"Lines: {num_lines}, Words: {num_words}, Characters: {num_chars}\")"
   ]
  },
  {
   "cell_type": "code",
   "execution_count": 16,
   "id": "a3ffabb7",
   "metadata": {},
   "outputs": [
    {
     "name": "stdout",
     "output_type": "stream",
     "text": [
      "Hello, World!\n",
      "This is a test file.\n",
      "\n"
     ]
    }
   ],
   "source": [
    "### Writing and then reading a file\n",
    "with open('file.txt', 'w+') as file:\n",
    "    file.write(\"Hello, World!\\n\")\n",
    "    file.write(\"This is a test file.\\n\")\n",
    "    file.seek(0)  # Move the cursor back to the beginning of the file\n",
    "    content = file.read()\n",
    "    print(content)"
   ]
  }
 ],
 "metadata": {
  "kernelspec": {
   "display_name": "Python 3",
   "language": "python",
   "name": "python3"
  },
  "language_info": {
   "codemirror_mode": {
    "name": "ipython",
    "version": 3
   },
   "file_extension": ".py",
   "mimetype": "text/x-python",
   "name": "python",
   "nbconvert_exporter": "python",
   "pygments_lexer": "ipython3",
   "version": "3.12.0"
  }
 },
 "nbformat": 4,
 "nbformat_minor": 5
}

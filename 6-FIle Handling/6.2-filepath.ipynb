{
 "cells": [
  {
   "cell_type": "code",
   "execution_count": 2,
   "id": "b1f1533d",
   "metadata": {},
   "outputs": [
    {
     "name": "stdout",
     "output_type": "stream",
     "text": [
      "Directory created: package\n"
     ]
    }
   ],
   "source": [
    "## create a new directory\n",
    "import os\n",
    "\n",
    "\n",
    "new_directory = \"package\"\n",
    "os.makedirs(new_directory, exist_ok=True)\n",
    "print(\"Directory created:\", new_directory)"
   ]
  },
  {
   "cell_type": "code",
   "execution_count": 4,
   "id": "f6ec3cec",
   "metadata": {},
   "outputs": [
    {
     "name": "stdout",
     "output_type": "stream",
     "text": [
      "file.bin\n",
      "file.txt\n",
      "destination.txt\n",
      "6.1-fileoperations.ipynb\n",
      "6.2-filepath.ipynb\n",
      "package\n"
     ]
    }
   ],
   "source": [
    "## Listing Files and Directories\n",
    "items=os.listdir('.')\n",
    "for item in items:\n",
    "    print(item)"
   ]
  },
  {
   "cell_type": "code",
   "execution_count": 5,
   "id": "60e349af",
   "metadata": {},
   "outputs": [
    {
     "name": "stdout",
     "output_type": "stream",
     "text": [
      "Full path: folder/file.txt\n"
     ]
    }
   ],
   "source": [
    "### Joining Paths\n",
    "\n",
    "dir_names='folder'\n",
    "file_name='file.txt'\n",
    "full_path=os.path.join(dir_names,file_name)\n",
    "print(\"Full path:\",full_path)"
   ]
  },
  {
   "cell_type": "code",
   "execution_count": 6,
   "id": "99068f33",
   "metadata": {},
   "outputs": [
    {
     "name": "stdout",
     "output_type": "stream",
     "text": [
      "Full path: /Users/a825765/Documents/me/NUS/Learn/Python/6-FIle Handling/folder/file.txt\n"
     ]
    }
   ],
   "source": [
    "dir_names='folder'\n",
    "file_name='file.txt'\n",
    "full_path=os.path.join(os.getcwd(),dir_names,file_name)\n",
    "print(\"Full path:\",full_path)"
   ]
  },
  {
   "cell_type": "code",
   "execution_count": 9,
   "id": "aa1d5a81",
   "metadata": {},
   "outputs": [
    {
     "name": "stdout",
     "output_type": "stream",
     "text": [
      "File exists in /Users/a825765/Documents/me/NUS/Learn/Python/6-FIle Handling\n"
     ]
    }
   ],
   "source": [
    "path='file.txt'\n",
    "if os.path.exists(path):\n",
    "    print(\"File exists in\", os.path.dirname(os.path.abspath(path)))\n",
    "else:\n",
    "    print(\"File does not exist\")"
   ]
  },
  {
   "cell_type": "code",
   "execution_count": 10,
   "id": "6abc1d9a",
   "metadata": {},
   "outputs": [
    {
     "name": "stdout",
     "output_type": "stream",
     "text": [
      "It's a file\n"
     ]
    }
   ],
   "source": [
    "## Checking if a path is a file or directory\n",
    "path='file.txt'\n",
    "if os.path.exists(path):\n",
    "    if os.path.isfile(path):\n",
    "        print(\"It's a file\")\n",
    "    elif os.path.isdir(path):\n",
    "        print(\"It's a directory\")\n",
    "else:\n",
    "    print(\"Path does not exist\")\n"
   ]
  },
  {
   "cell_type": "code",
   "execution_count": 11,
   "id": "2f575c0c",
   "metadata": {},
   "outputs": [
    {
     "name": "stdout",
     "output_type": "stream",
     "text": [
      "Absolute path: /Users/a825765/Documents/me/NUS/Learn/Python/6-FIle Handling/file.txt\n"
     ]
    }
   ],
   "source": [
    "## Get absolute path\n",
    "path='file.txt'\n",
    "abs_path=os.path.abspath(path)\n",
    "print(\"Absolute path:\",abs_path)"
   ]
  }
 ],
 "metadata": {
  "kernelspec": {
   "display_name": "Python 3",
   "language": "python",
   "name": "python3"
  },
  "language_info": {
   "codemirror_mode": {
    "name": "ipython",
    "version": 3
   },
   "file_extension": ".py",
   "mimetype": "text/x-python",
   "name": "python",
   "nbconvert_exporter": "python",
   "pygments_lexer": "ipython3",
   "version": "3.12.0"
  }
 },
 "nbformat": 4,
 "nbformat_minor": 5
}

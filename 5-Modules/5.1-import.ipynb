{
 "cells": [
  {
   "cell_type": "markdown",
   "id": "1d52ca97",
   "metadata": {},
   "source": [
    "## Importing Modules in Python: Modules and Packages"
   ]
  },
  {
   "cell_type": "markdown",
   "id": "172717ad",
   "metadata": {},
   "source": [
    "In Python, modules and packages help organize and reuse code. Here's a comprehensive guide on how to import them."
   ]
  },
  {
   "cell_type": "code",
   "execution_count": 2,
   "id": "9edb3c51",
   "metadata": {},
   "outputs": [
    {
     "name": "stdout",
     "output_type": "stream",
     "text": [
      "The square root of 16 is: 4.0\n"
     ]
    }
   ],
   "source": [
    "import math\n",
    "print(\"The square root of 16 is:\", math.sqrt(16))\n"
   ]
  },
  {
   "cell_type": "code",
   "execution_count": 3,
   "id": "a2a3e7e3",
   "metadata": {},
   "outputs": [
    {
     "name": "stdout",
     "output_type": "stream",
     "text": [
      "The square root of 16 is: 4.0\n",
      "The value of pi is: 3.141592653589793\n"
     ]
    }
   ],
   "source": [
    "from math import sqrt, pi\n",
    "print(\"The square root of 16 is:\", sqrt(16))\n",
    "print(\"The value of pi is:\", pi)"
   ]
  },
  {
   "cell_type": "code",
   "execution_count": 7,
   "id": "4b0917ea",
   "metadata": {},
   "outputs": [
    {
     "name": "stdout",
     "output_type": "stream",
     "text": [
      "Numpy array: [1 2 3 4 5]\n",
      "Array mean: 3.0\n",
      "Array sum: 15\n"
     ]
    }
   ],
   "source": [
    "import numpy as np\n",
    "\n",
    "# Test that numpy is working\n",
    "arr = np.array([1, 2, 3, 4, 5])\n",
    "print(\"Numpy array:\", arr)\n",
    "print(\"Array mean:\", np.mean(arr))\n",
    "print(\"Array sum:\", np.sum(arr))\n"
   ]
  },
  {
   "cell_type": "code",
   "execution_count": 8,
   "id": "fa44dbb4",
   "metadata": {},
   "outputs": [
    {
     "data": {
      "text/plain": [
       "4.0"
      ]
     },
     "execution_count": 8,
     "metadata": {},
     "output_type": "execute_result"
    }
   ],
   "source": [
    "from math import *\n",
    "sqrt(16)\n"
   ]
  },
  {
   "cell_type": "code",
   "execution_count": 13,
   "id": "14a23223",
   "metadata": {},
   "outputs": [
    {
     "name": "stdout",
     "output_type": "stream",
     "text": [
      "Addition: 8\n",
      "Subtraction: 2\n",
      "Multiplication: 15\n",
      "Division: 1.6666666666666667\n"
     ]
    }
   ],
   "source": [
    "from package.math import addition, subtraction, multiplication, division\n",
    "print(\"Addition:\", addition(5, 3))\n",
    "print(\"Subtraction:\", subtraction(5, 3))\n",
    "print(\"Multiplication:\", multiplication(5, 3))\n",
    "print(\"Division:\", division(5, 3))"
   ]
  },
  {
   "cell_type": "code",
   "execution_count": 14,
   "id": "810bda77",
   "metadata": {},
   "outputs": [
    {
     "name": "stdout",
     "output_type": "stream",
     "text": [
      "Addition from package: 8\n",
      "Subtraction from package: 2\n",
      "Multiplication from package: 15\n",
      "Division from package: 1.6666666666666667\n"
     ]
    }
   ],
   "source": [
    "from package import math\n",
    "print(\"Addition from package:\", math.addition(5, 3))\n",
    "print(\"Subtraction from package:\", math.subtraction(5, 3))\n",
    "print(\"Multiplication from package:\", math.multiplication(5, 3))\n",
    "print(\"Division from package:\", math.division(5, 3))"
   ]
  },
  {
   "cell_type": "code",
   "execution_count": null,
   "id": "b4a44e1c",
   "metadata": {},
   "outputs": [],
   "source": []
  }
 ],
 "metadata": {
  "kernelspec": {
   "display_name": "Python 3",
   "language": "python",
   "name": "python3"
  },
  "language_info": {
   "codemirror_mode": {
    "name": "ipython",
    "version": 3
   },
   "file_extension": ".py",
   "mimetype": "text/x-python",
   "name": "python",
   "nbconvert_exporter": "python",
   "pygments_lexer": "ipython3",
   "version": "3.12.0"
  }
 },
 "nbformat": 4,
 "nbformat_minor": 5
}

{
 "cells": [
  {
   "cell_type": "markdown",
   "id": "5f239f75",
   "metadata": {},
   "source": [
    "### Standard Library Overview"
   ]
  },
  {
   "cell_type": "markdown",
   "id": "a1896812",
   "metadata": {},
   "source": [
    "Python's Standard Library is a vast collection of modules and packages that come bundled with Python, providing a wide range of functionalities out of the box. Here's an overview of some of the most commonly used modules and packages in the Python Standard Library."
   ]
  },
  {
   "cell_type": "code",
   "execution_count": 2,
   "id": "3d744cea",
   "metadata": {},
   "outputs": [
    {
     "name": "stdout",
     "output_type": "stream",
     "text": [
      "Array: array('i', [1, 2, 3, 4, 5])\n",
      "Array type: <class 'array.array'>\n",
      "Array length: 5\n",
      "Array item at index 2: 3\n",
      "Array slice from index 1 to 3: array('i', [2, 3, 4])\n",
      "Array reversed: array('i', [5, 4, 3, 2, 1])\n",
      "Array with item 6 appended: array('i', [1, 2, 3, 4, 5, 6])\n",
      "Array with item 0 prepended: array('i', [0, 1, 2, 3, 4, 5])\n",
      "Array with item 3 removed: array('i', [1, 2, 4, 5])\n"
     ]
    }
   ],
   "source": [
    "import array\n",
    "arr= array.array('i', [1, 2, 3, 4, 5])\n",
    "print(\"Array:\", arr)\n",
    "print(\"Array type:\", type(arr))\n",
    "print(\"Array length:\", len(arr))\n",
    "print(\"Array item at index 2:\", arr[2])\n",
    "print(\"Array slice from index 1 to 3:\", arr[1:4])\n",
    "print(\"Array reversed:\", arr[::-1])\n",
    "print(\"Array with item 6 appended:\", arr + array.array('i', [6]))\n",
    "print(\"Array with item 0 prepended:\", array.array('i', [0]) + arr)\n",
    "print(\"Array with item 3 removed:\", arr.remove(3) or arr)\n"
   ]
  },
  {
   "cell_type": "code",
   "execution_count": 4,
   "id": "25444a94",
   "metadata": {},
   "outputs": [
    {
     "name": "stdout",
     "output_type": "stream",
     "text": [
      "Random integer between 1 and 10: 5\n",
      "Random float between 0 and 1: 0.02374487870965203\n",
      "Random choice from list [1, 2, 3]: 3\n",
      "Random sample of 2 from list [1, 2, 3, 4, 5]: [3, 2]\n",
      "Random shuffle of list [1, 2, 3, 4, 5]: [5, 3, 2, 1, 4]\n"
     ]
    }
   ],
   "source": [
    "## random\n",
    "\n",
    "import random\n",
    "print(\"Random integer between 1 and 10:\", random.randint(1, 10))\n",
    "print(\"Random float between 0 and 1:\", random.random())\n",
    "print(\"Random choice from list [1, 2, 3]:\", random.choice([1, 2, 3]))\n",
    "print(\"Random sample of 2 from list [1, 2, 3, 4, 5]:\", random.sample([1, 2, 3, 4, 5], 2))\n",
    "print(\"Random shuffle of list [1, 2, 3, 4, 5]:\", random.sample([1, 2, 3, 4, 5], len([1, 2, 3, 4, 5])))"
   ]
  },
  {
   "cell_type": "code",
   "execution_count": 5,
   "id": "b9ce2636",
   "metadata": {},
   "outputs": [
    {
     "name": "stdout",
     "output_type": "stream",
     "text": [
      "Current working directory: /Users/a825765/Documents/me/NUS/Learn/Python/5-Modules\n"
     ]
    }
   ],
   "source": [
    "### File and Directory Access\n",
    "\n",
    "import os\n",
    "print(\"Current working directory:\", os.getcwd())\n"
   ]
  },
  {
   "cell_type": "code",
   "execution_count": 6,
   "id": "626f59e1",
   "metadata": {},
   "outputs": [
    {
     "name": "stdout",
     "output_type": "stream",
     "text": [
      "Directory 'test_directory' created.\n"
     ]
    }
   ],
   "source": [
    "os.mkdir('test_directory')\n",
    "print(\"Directory 'test_directory' created.\")"
   ]
  },
  {
   "cell_type": "code",
   "execution_count": 7,
   "id": "250afbb2",
   "metadata": {},
   "outputs": [],
   "source": [
    "## create a file and write to it\n",
    "with open('test_file.txt', 'w') as f:\n",
    "    f.write(\"Hello, World!\")"
   ]
  },
  {
   "cell_type": "code",
   "execution_count": 8,
   "id": "9629dff3",
   "metadata": {},
   "outputs": [
    {
     "name": "stdout",
     "output_type": "stream",
     "text": [
      "File 'test_file.txt' copied to 'test_file_copy.txt'.\n"
     ]
    }
   ],
   "source": [
    "## high level operations on files and collections of files\n",
    "import shutil\n",
    "shutil.copyfile('test_file.txt', 'test_file_copy.txt')\n",
    "print(\"File 'test_file.txt' copied to 'test_file_copy.txt'.\")"
   ]
  },
  {
   "cell_type": "code",
   "execution_count": 9,
   "id": "6756ccbb",
   "metadata": {},
   "outputs": [
    {
     "name": "stdout",
     "output_type": "stream",
     "text": [
      "Data serialized to 'data.json'.\n"
     ]
    }
   ],
   "source": [
    "## Data Serialization and Deserialization\n",
    "import json\n",
    "data = {'name': 'Alice', 'age': 30, 'city': 'New York'}\n",
    "# Serialize to JSON\n",
    "with open('data.json', 'w') as f:\n",
    "    json.dump(data, f)\n",
    "print(\"Data serialized to 'data.json'.\")"
   ]
  },
  {
   "cell_type": "code",
   "execution_count": 10,
   "id": "847cbe98",
   "metadata": {},
   "outputs": [
    {
     "name": "stdout",
     "output_type": "stream",
     "text": [
      "JSON string: {\"name\": \"Alice\", \"age\": 30, \"city\": \"New York\"}\n",
      "JSON string type: <class 'str'>\n",
      "Deserialized JSON data: {'name': 'Alice', 'age': 30, 'city': 'New York'}\n",
      "Deserialized JSON data type: <class 'dict'>\n"
     ]
    }
   ],
   "source": [
    "import json\n",
    "data = {'name': 'Alice', 'age': 30, 'city': 'New York'}\n",
    "\n",
    "json_string = json.dumps(data)\n",
    "print(\"JSON string:\", json_string)\n",
    "print(\"JSON string type:\", type(json_string))\n",
    "\n",
    "json.loads(json_string)\n",
    "print(\"Deserialized JSON data:\", json.loads(json_string))\n",
    "print(\"Deserialized JSON data type:\", type(json.loads(json_string)))"
   ]
  },
  {
   "cell_type": "code",
   "execution_count": 15,
   "id": "81ad428a",
   "metadata": {},
   "outputs": [
    {
     "name": "stdout",
     "output_type": "stream",
     "text": [
      "Data written to 'data.csv'.\n",
      "CSV row: ['Name', 'Age', 'City']\n",
      "CSV row: ['Alice', '30', 'New York']\n",
      "CSV row: ['Bob', '25', 'Los Angeles']\n"
     ]
    }
   ],
   "source": [
    "## csv\n",
    "\n",
    "import csv\n",
    "data = [['Name', 'Age', 'City'], ['Alice', 30, 'New York'], ['Bob', 25, 'Los Angeles']]\n",
    "# Write to CSV\n",
    "with open('data.csv', mode='w+', newline='') as f:\n",
    "    writer = csv.writer(f)\n",
    "    writer.writerows(data)\n",
    "print(\"Data written to 'data.csv'.\")\n",
    "\n",
    "# Read from CSV\n",
    "with open('data.csv', mode='r') as f:\n",
    "    reader = csv.reader(f)\n",
    "    for row in reader:\n",
    "        print(\"CSV row:\", row)\n"
   ]
  },
  {
   "cell_type": "code",
   "execution_count": 16,
   "id": "ad0c8c45",
   "metadata": {},
   "outputs": [
    {
     "name": "stdout",
     "output_type": "stream",
     "text": [
      "Current date and time: 2025-07-31 01:46:20.818859\n",
      "Formatted date: 2025-07-31 01:46:20\n",
      "Date 7 days ago: 2025-07-24 01:46:20.818859\n",
      "Date 7 days from now: 2025-08-07 01:46:20.818859\n"
     ]
    }
   ],
   "source": [
    "## datetime\n",
    "from datetime import datetime, timedelta\n",
    "now = datetime.now()\n",
    "print(\"Current date and time:\", now)\n",
    "print(\"Formatted date:\", now.strftime(\"%Y-%m-%d %H:%M:%S\"))\n",
    "print(\"Date 7 days ago:\", now - timedelta(days=7))\n",
    "print(\"Date 7 days from now:\", now + timedelta(days=7))"
   ]
  },
  {
   "cell_type": "code",
   "execution_count": 17,
   "id": "e061d134",
   "metadata": {},
   "outputs": [
    {
     "name": "stdout",
     "output_type": "stream",
     "text": [
      "Yesterday's date: 2025-07-30 01:46:20\n",
      "Tomorrow's date: 2025-08-01 01:46:20\n",
      "One week ago: 2025-07-24 01:46:20\n",
      "One week from now: 2025-08-07 01:46:20\n",
      "One month ago: 2025-07-01 01:46:20\n",
      "One month from now: 2025-08-30 01:46:20\n",
      "One year ago: 2024-07-31 01:46:20\n",
      "One year from now: 2026-07-31 01:46:20\n"
     ]
    }
   ],
   "source": [
    "yesterday = now - timedelta(days=1)\n",
    "print(\"Yesterday's date:\", yesterday.strftime(\"%Y-%m-%d %H:%M:%S\"))\n",
    "print(\"Tomorrow's date:\", (now + timedelta(days=1)).strftime(\"%Y-%m-%d %H:%M:%S\"))\n",
    "print(\"One week ago:\", (now - timedelta(weeks=1)).strftime(\"%Y-%m-%d %H:%M:%S\"))\n",
    "print(\"One week from now:\", (now + timedelta(weeks=1)).strftime(\"%Y-%m-%d %H:%M:%S\"))\n",
    "print(\"One month ago:\", (now - timedelta(days=30)).strftime(\"%Y-%m-%d %H:%M:%S\"))\n",
    "print(\"One month from now:\", (now + timedelta(days=30)).strftime(\"%Y-%m-%d %H:%M:%S\"))\n",
    "print(\"One year ago:\", (now - timedelta(days=365)).strftime(\"%Y-%m-%d %H:%M:%S\"))\n",
    "print(\"One year from now:\", (now + timedelta(days=365)).strftime(\"%Y-%m-%d %H:%M:%S\"))"
   ]
  },
  {
   "cell_type": "code",
   "execution_count": 18,
   "id": "943f47ca",
   "metadata": {},
   "outputs": [
    {
     "name": "stdout",
     "output_type": "stream",
     "text": [
      "Current time in seconds since epoch: 1753897669.407737\n",
      "Current time in local time: time.struct_time(tm_year=2025, tm_mon=7, tm_mday=31, tm_hour=1, tm_min=47, tm_sec=49, tm_wday=3, tm_yday=212, tm_isdst=0)\n",
      "Current time in UTC: time.struct_time(tm_year=2025, tm_mon=7, tm_mday=30, tm_hour=17, tm_min=47, tm_sec=49, tm_wday=2, tm_yday=211, tm_isdst=0)\n",
      "Formatted current time: 2025-07-31 01:47:49\n",
      "Formatted current time in UTC: 2025-07-30 17:47:49\n",
      "Timezone name: +08\n",
      "Time zone offset in seconds: -28800\n",
      "Daylight saving time in effect: 0\n"
     ]
    }
   ],
   "source": [
    "## time\n",
    "import time\n",
    "current_time = time.time()\n",
    "print(\"Current time in seconds since epoch:\", current_time)\n",
    "print(\"Current time in local time:\", time.localtime(current_time))\n",
    "print(\"Current time in UTC:\", time.gmtime(current_time))\n",
    "print(\"Formatted current time:\", time.strftime(\"%Y-%m-%d %H:%M:%S\", time.localtime(current_time)))\n",
    "print(\"Formatted current time in UTC:\", time.strftime(\"%Y-%m-%d %H:%M:%S\", time.gmtime(current_time)))\n",
    "print(\"Timezone name:\", time.tzname[0])\n",
    "print(\"Time zone offset in seconds:\", time.timezone)\n",
    "print(\"Daylight saving time in effect:\", time.daylight)"
   ]
  },
  {
   "cell_type": "code",
   "execution_count": 19,
   "id": "8bb4681e",
   "metadata": {},
   "outputs": [
    {
     "name": "stdout",
     "output_type": "stream",
     "text": [
      "Current time in seconds since epoch: 1753897704.486144\n",
      "Slept for 2 seconds, current time in seconds since epoch: 1753897706.490805\n"
     ]
    }
   ],
   "source": [
    "import time\n",
    "print(\"Current time in seconds since epoch:\", time.time())\n",
    "time.sleep(2)\n",
    "print(\"Slept for 2 seconds, current time in seconds since epoch:\", time.time())"
   ]
  },
  {
   "cell_type": "code",
   "execution_count": 21,
   "id": "4be5dd8c",
   "metadata": {},
   "outputs": [
    {
     "name": "stdout",
     "output_type": "stream",
     "text": [
      "Matches found: ['123', '456']\n",
      "<class 'list'>\n"
     ]
    }
   ],
   "source": [
    "## regular expressions\n",
    "import re\n",
    "pattern = r'\\d+'\n",
    "text = \"There are 123 apples and 456 oranges.\"\n",
    "matches = re.findall(pattern, text)\n",
    "print(\"Matches found:\", matches)\n",
    "print(type(matches))"
   ]
  },
  {
   "cell_type": "markdown",
   "id": "4817a7f9",
   "metadata": {},
   "source": [
    "### Conclusion"
   ]
  },
  {
   "cell_type": "markdown",
   "id": "04a2740b",
   "metadata": {},
   "source": [
    "Python's Standard Library is extensive and provides tools for almost any task you can think of, from file handling to web services, from data serialization to concurrent execution. Familiarizing yourself with the modules and packages available in the Standard Library can significantly enhance your ability to write efficient and effective Python programs."
   ]
  }
 ],
 "metadata": {
  "kernelspec": {
   "display_name": "Python 3",
   "language": "python",
   "name": "python3"
  },
  "language_info": {
   "codemirror_mode": {
    "name": "ipython",
    "version": 3
   },
   "file_extension": ".py",
   "mimetype": "text/x-python",
   "name": "python",
   "nbconvert_exporter": "python",
   "pygments_lexer": "ipython3",
   "version": "3.12.0"
  }
 },
 "nbformat": 4,
 "nbformat_minor": 5
}

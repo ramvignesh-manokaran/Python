{
 "cells": [
  {
   "cell_type": "markdown",
   "id": "b5156d5c",
   "metadata": {},
   "source": [
    "### Tuples"
   ]
  },
  {
   "cell_type": "markdown",
   "id": "8b4d4014",
   "metadata": {},
   "source": [
    "\n",
    "Tuples\n",
    "\n",
    "Video Outline:\n",
    "\n",
    "    Introduction to Tuples\n",
    "    Creating Tuples\n",
    "    Accessing Tuple Elements\n",
    "    Tuple Operations\n",
    "    Immutable Nature of Tuples\n",
    "    Tuple Methods\n",
    "    Packing and Unpacking Tuples\n",
    "    Nested Tuples\n",
    "    Practical Examples and Common Errors\n",
    "\n"
   ]
  },
  {
   "cell_type": "markdown",
   "id": "6f113805",
   "metadata": {},
   "source": [
    "\n",
    "Introduction to Tuples\n",
    "\n",
    "Explanation:\n",
    "\n",
    "Tuples are ordered collections of items that are immutable. They are similar to lists, but their immutability makes them different.\n"
   ]
  },
  {
   "cell_type": "code",
   "execution_count": 2,
   "id": "8d447308",
   "metadata": {},
   "outputs": [
    {
     "name": "stdout",
     "output_type": "stream",
     "text": [
      "()\n",
      "<class 'tuple'>\n"
     ]
    }
   ],
   "source": [
    "## creating a tuple\n",
    "empty_tuple = ()\n",
    "print(empty_tuple)\n",
    "print(type(empty_tuple))"
   ]
  },
  {
   "cell_type": "code",
   "execution_count": 4,
   "id": "d370e05c",
   "metadata": {},
   "outputs": [
    {
     "name": "stdout",
     "output_type": "stream",
     "text": [
      "[]\n",
      "<class 'list'>\n"
     ]
    }
   ],
   "source": [
    "lst=list()\n",
    "print(lst)\n",
    "print(type(lst))"
   ]
  },
  {
   "cell_type": "code",
   "execution_count": 6,
   "id": "9f3d34b9",
   "metadata": {},
   "outputs": [
    {
     "name": "stdout",
     "output_type": "stream",
     "text": [
      "()\n",
      "<class 'tuple'>\n"
     ]
    }
   ],
   "source": [
    "tpl=tuple()\n",
    "print(tpl)\n",
    "print(type(tpl))"
   ]
  },
  {
   "cell_type": "code",
   "execution_count": 7,
   "id": "ff74b22b",
   "metadata": {},
   "outputs": [
    {
     "name": "stdout",
     "output_type": "stream",
     "text": [
      "(1, 2, 3, 4, 5)\n",
      "<class 'tuple'>\n"
     ]
    }
   ],
   "source": [
    "numbers=tuple([1, 2, 3, 4, 5])\n",
    "print(numbers)\n",
    "print(type(numbers))"
   ]
  },
  {
   "cell_type": "code",
   "execution_count": 9,
   "id": "afdadf8c",
   "metadata": {},
   "outputs": [
    {
     "name": "stdout",
     "output_type": "stream",
     "text": [
      "<class 'list'>\n"
     ]
    }
   ],
   "source": [
    "list(numbers)\n",
    "print(type(list(numbers)))"
   ]
  },
  {
   "cell_type": "code",
   "execution_count": 10,
   "id": "5a3c603c",
   "metadata": {},
   "outputs": [
    {
     "name": "stdout",
     "output_type": "stream",
     "text": [
      "(1, 'two', 3.0, (4, 5))\n",
      "<class 'tuple'>\n"
     ]
    }
   ],
   "source": [
    "mixed_tuple = (1, \"two\", 3.0, (4, 5))\n",
    "print(mixed_tuple)\n",
    "print(type(mixed_tuple))"
   ]
  },
  {
   "cell_type": "code",
   "execution_count": 15,
   "id": "483bb5c4",
   "metadata": {},
   "outputs": [
    {
     "name": "stdout",
     "output_type": "stream",
     "text": [
      "1\n",
      "2\n",
      "3\n",
      "4\n",
      "5\n",
      "5\n"
     ]
    }
   ],
   "source": [
    "## Accessing Tuple Elements\n",
    "\n",
    "print(numbers[0])\n",
    "print(numbers[1])\n",
    "print(numbers[2])\n",
    "print(numbers[3])\n",
    "print(numbers[4])\n",
    "print(numbers[-1])"
   ]
  },
  {
   "cell_type": "code",
   "execution_count": 17,
   "id": "5ee32f84",
   "metadata": {},
   "outputs": [
    {
     "data": {
      "text/plain": [
       "(5, 4, 3, 2, 1)"
      ]
     },
     "execution_count": 17,
     "metadata": {},
     "output_type": "execute_result"
    }
   ],
   "source": [
    "numbers[0:4]\n",
    "numbers[::-1]"
   ]
  },
  {
   "cell_type": "code",
   "execution_count": null,
   "id": "fc94ec76",
   "metadata": {},
   "outputs": [
    {
     "name": "stdout",
     "output_type": "stream",
     "text": [
      "(1, 2, 3, 4, 5, 1, 2, 3, 4, 5)\n",
      "(1, 2, 3, 4, 5, 1, 2, 3, 4, 5)\n",
      "True\n",
      "5\n"
     ]
    }
   ],
   "source": [
    "## Tuples Operations\n",
    "\n",
    "print(numbers + numbers) ## Concatenation\n",
    "print(numbers * 2)       ## Repetition\n",
    "print(5 in numbers)      ## Membership\n",
    "print(len(numbers))      ## Length\n"
   ]
  },
  {
   "cell_type": "code",
   "execution_count": 21,
   "id": "26b06cae",
   "metadata": {},
   "outputs": [
    {
     "name": "stdout",
     "output_type": "stream",
     "text": [
      "'tuple' object does not support item assignment\n"
     ]
    }
   ],
   "source": [
    "## Immutable nature of tuples\n",
    "\n",
    "# Attempting to change a tuple (will raise an error)\n",
    "try:\n",
    "    numbers[0] = 10\n",
    "except TypeError as e:\n",
    "    print(e)\n"
   ]
  },
  {
   "cell_type": "code",
   "execution_count": 25,
   "id": "739526e0",
   "metadata": {},
   "outputs": [
    {
     "name": "stdout",
     "output_type": "stream",
     "text": [
      "1\n",
      "2\n"
     ]
    }
   ],
   "source": [
    "## Tuple Methods\n",
    "\n",
    "print(numbers.count(1))\n",
    "print(numbers.index(3))"
   ]
  },
  {
   "cell_type": "code",
   "execution_count": 29,
   "id": "266d0f94",
   "metadata": {},
   "outputs": [
    {
     "name": "stdout",
     "output_type": "stream",
     "text": [
      "(1, 2, 3)\n",
      "<class 'tuple'>\n",
      "1 2 3\n"
     ]
    }
   ],
   "source": [
    "## Packing and Unpacking Tuple\n",
    "\n",
    "# Packing\n",
    "packed = 1, 2, 3\n",
    "print(packed)\n",
    "print(type(packed))\n",
    "\n",
    "# Unpacking\n",
    "a, b, c = packed\n",
    "print(a, b, c)\n"
   ]
  },
  {
   "cell_type": "code",
   "execution_count": 36,
   "id": "b574cd14",
   "metadata": {},
   "outputs": [
    {
     "name": "stdout",
     "output_type": "stream",
     "text": [
      "1\n",
      "[2, 3, 4]\n",
      "5\n"
     ]
    }
   ],
   "source": [
    "## Unpacking with *\n",
    "\n",
    "# Using * to unpack\n",
    "numbers = (1, 2, 3, 4, 5)\n",
    "a, *b, c = numbers\n",
    "print(a)  # 1\n",
    "print(b)  # [2, 3, 4]\n",
    "print(c)  # 5\n"
   ]
  },
  {
   "cell_type": "code",
   "execution_count": 41,
   "id": "c190196b",
   "metadata": {},
   "outputs": [
    {
     "name": "stdout",
     "output_type": "stream",
     "text": [
      "[[1, 2], [3, 4]]\n",
      "[1, 2]\n",
      "2\n"
     ]
    }
   ],
   "source": [
    "## Nested List\n",
    "\n",
    "nested = [[1, 2], [3, 4]]\n",
    "print(nested)\n",
    "print(nested[0])\n",
    "print(nested[0][1])"
   ]
  },
  {
   "cell_type": "code",
   "execution_count": 44,
   "id": "d73cccee",
   "metadata": {},
   "outputs": [
    {
     "name": "stdout",
     "output_type": "stream",
     "text": [
      "(1, 2, (3, 4, 5, 6, 7, 8))\n",
      "(3, 4, 5, 6, 7, 8)\n",
      "(5, 6, 7, 8)\n"
     ]
    }
   ],
   "source": [
    "## Nested Tuple\n",
    "\n",
    "nested = (1, 2, (3, 4, 5, 6, 7, 8))\n",
    "print(nested)\n",
    "print(nested[2])\n",
    "print(nested[2][2:])"
   ]
  },
  {
   "cell_type": "code",
   "execution_count": 45,
   "id": "71015794",
   "metadata": {},
   "outputs": [
    {
     "name": "stdout",
     "output_type": "stream",
     "text": [
      "1\n",
      "2\n",
      "3\n",
      "4\n",
      "5\n",
      "6\n",
      "7\n",
      "8\n"
     ]
    }
   ],
   "source": [
    "## iterating over nested tuples\n",
    "nested = (1, 2, (3, 4, 5, 6, 7, 8))\n",
    "for i in nested:\n",
    "    if isinstance(i, tuple):\n",
    "        for j in i:\n",
    "            print(j)\n",
    "    else:\n",
    "        print(i)\n",
    "\n"
   ]
  },
  {
   "cell_type": "markdown",
   "id": "eb449866",
   "metadata": {},
   "source": [
    "### Conclusion"
   ]
  },
  {
   "cell_type": "markdown",
   "id": "68303728",
   "metadata": {},
   "source": [
    "\n",
    "Tuples are versatile and useful in many real-world scenarios where an immutable and ordered collection of items is required. They are commonly used in data structures, function arguments and return values, and as dictionary keys. Understanding how to leverage tuples effectively can improve the efficiency and readability of your Python code.\n"
   ]
  },
  {
   "cell_type": "markdown",
   "id": "49d735b9",
   "metadata": {},
   "source": []
  }
 ],
 "metadata": {
  "kernelspec": {
   "display_name": "Python 3",
   "language": "python",
   "name": "python3"
  },
  "language_info": {
   "codemirror_mode": {
    "name": "ipython",
    "version": 3
   },
   "file_extension": ".py",
   "mimetype": "text/x-python",
   "name": "python",
   "nbconvert_exporter": "python",
   "pygments_lexer": "ipython3",
   "version": "3.12.0"
  }
 },
 "nbformat": 4,
 "nbformat_minor": 5
}

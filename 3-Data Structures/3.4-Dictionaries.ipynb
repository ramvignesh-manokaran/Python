{
 "cells": [
  {
   "cell_type": "markdown",
   "id": "d52d72ae",
   "metadata": {},
   "source": [
    "### Dictionaries"
   ]
  },
  {
   "cell_type": "markdown",
   "id": "a7f3694e",
   "metadata": {},
   "source": [
    "Outline:\n",
    "\n",
    "    Introduction to Dictionaries\n",
    "    Creating Dictionaries\n",
    "    Accessing Dictionary Elements\n",
    "    Modifying Dictionary Elements\n",
    "    Dictionary Methods\n",
    "    Iterating Over Dictionaries\n",
    "    Nested Dictionaries\n",
    "    Dictionary Comprehensions\n",
    "    Practical Examples and Common Errors\n"
   ]
  },
  {
   "cell_type": "markdown",
   "id": "a1c8be41",
   "metadata": {},
   "source": [
    "Introduction to Dictionaries\n",
    "\n",
    "Dictionaries are unordered collections of items. They store data in key-value pairs. Keys must be unique and immutable (e.g., strings, numbers, or tuples), while values can be of any type."
   ]
  },
  {
   "cell_type": "code",
   "execution_count": 3,
   "id": "05110689",
   "metadata": {},
   "outputs": [
    {
     "name": "stdout",
     "output_type": "stream",
     "text": [
      "{}\n",
      "<class 'dict'>\n"
     ]
    }
   ],
   "source": [
    "## Creating Dictionaries\n",
    "\n",
    "empty_dict={}\n",
    "print(empty_dict)\n",
    "print(type(empty_dict))"
   ]
  },
  {
   "cell_type": "code",
   "execution_count": 4,
   "id": "5587d04b",
   "metadata": {},
   "outputs": [
    {
     "name": "stdout",
     "output_type": "stream",
     "text": [
      "{}\n",
      "<class 'dict'>\n"
     ]
    }
   ],
   "source": [
    "empty_dict2=dict()\n",
    "print(empty_dict2)\n",
    "print(type(empty_dict2))"
   ]
  },
  {
   "cell_type": "code",
   "execution_count": 6,
   "id": "354328b0",
   "metadata": {},
   "outputs": [
    {
     "name": "stdout",
     "output_type": "stream",
     "text": [
      "{'name': 'John', 'age': 20, 'major': 'Computer Science'}\n",
      "<class 'dict'>\n"
     ]
    }
   ],
   "source": [
    "student={\"name\":\"John\", \"age\":20, \"major\":\"Computer Science\"}\n",
    "print(student)\n",
    "print(type(student))"
   ]
  },
  {
   "cell_type": "code",
   "execution_count": 7,
   "id": "dc5198c1",
   "metadata": {},
   "outputs": [
    {
     "name": "stdout",
     "output_type": "stream",
     "text": [
      "{'name': 'Doe', 'age': 20, 'major': 'Computer Science'}\n"
     ]
    }
   ],
   "source": [
    "## Errors in Dictionaries\n",
    "student={\"name\":\"John\", \"age\":20, \"major\":\"Computer Science\", \"name\":\"Doe\"} # Duplicate key error\n",
    "print(student) # Uncommenting this line will raise an error due to duplicate key"
   ]
  },
  {
   "cell_type": "code",
   "execution_count": 9,
   "id": "f34e0550",
   "metadata": {},
   "outputs": [
    {
     "name": "stdout",
     "output_type": "stream",
     "text": [
      "Doe\n",
      "20\n",
      "None\n",
      "Default Value\n"
     ]
    }
   ],
   "source": [
    "## accessing dictionary elements\n",
    "print(student[\"name\"]) # Accessing value by key\n",
    "print(student.get(\"age\")) # Using get method to access value by key\n",
    "print(student.get(\"non_existent_key\")) # Using get method with a non-existent key, returns None\n",
    "print(student.get(\"non_existent_key\", \"Default Value\")) # Using get method with default value"
   ]
  },
  {
   "cell_type": "code",
   "execution_count": 11,
   "id": "f396820d",
   "metadata": {},
   "outputs": [
    {
     "name": "stdout",
     "output_type": "stream",
     "text": [
      "{'name': 'Doe', 'age': 20, 'major': 'Computer Science'}\n",
      "{'name': 'Doe', 'age': 20, 'major': 'Computer Science', 'year': 2023}\n",
      "{'name': 'Doe', 'age': 20, 'year': 2023}\n"
     ]
    }
   ],
   "source": [
    "## Modifying Dictionary Elements\n",
    "## Dictionaries are mutable, so u can add, update, or remove key-value pairs.\n",
    "student[\"name\"]=\"Doe\" # Updating value by key\n",
    "print(student)\n",
    "student[\"year\"]=2023 # Adding new key-value pair\n",
    "print(student)\n",
    "del student[\"major\"] # Removing key-value pair\n",
    "print(student)"
   ]
  },
  {
   "cell_type": "code",
   "execution_count": 12,
   "id": "16fcaf16",
   "metadata": {},
   "outputs": [
    {
     "name": "stdout",
     "output_type": "stream",
     "text": [
      "dict_keys(['name', 'age', 'year'])\n",
      "dict_values(['Doe', 20, 2023])\n",
      "dict_items([('name', 'Doe'), ('age', 20), ('year', 2023)])\n",
      "True\n",
      "True\n",
      "3\n",
      "{'name': 'Doe', 'age': 20, 'year': 2023}\n",
      "{}\n",
      "20\n",
      "{'name': 'John', 'major': 'Computer Science'}\n",
      "('major', 'Computer Science')\n",
      "{'name': 'John'}\n",
      "{'name': 'John', 'year': 2023, 'university': 'NUS'}\n"
     ]
    }
   ],
   "source": [
    "## Dictionary Methods\n",
    "print(student.keys()) # Returns a view of the dictionary's keys\n",
    "print(student.values()) # Returns a view of the dictionary's values\n",
    "print(student.items()) # Returns a view of the dictionary's key-value pairs\n",
    "print(\"name\" in student) # Checks if a key exists in the dictionary\n",
    "print(\"Doe\" in student.values()) # Checks if a value exists in the dictionary\n",
    "print(len(student)) # Returns the number of key-value pairs in the dictionary\n",
    "print(student.copy()) # Returns a shallow copy of the dictionary\n",
    "student.clear() # Removes all key-value pairs from the dictionary\n",
    "print(student) # Prints the empty dictionary after clearing it\n",
    "student = {\"name\": \"John\", \"age\": 20, \"major\": \"Computer Science\"}\n",
    "print(student.pop(\"age\")) # Removes and returns the value associated with the key \"age\"\n",
    "print(student) # Prints the dictionary after popping the \"age\" key\n",
    "print(student.popitem()) # Removes and returns the last inserted key-value pair\n",
    "print(student) # Prints the dictionary after popping the last item\n",
    "student.update({\"year\": 2023, \"university\": \"NUS\"}) # Updates the dictionary with new key-value pairs\n",
    "print(student) # Prints the updated dictionary"
   ]
  },
  {
   "cell_type": "code",
   "execution_count": 13,
   "id": "373ae2dc",
   "metadata": {},
   "outputs": [
    {
     "name": "stdout",
     "output_type": "stream",
     "text": [
      "name John\n",
      "year 2023\n",
      "university NUS\n",
      "John\n",
      "2023\n",
      "NUS\n",
      "name John\n",
      "year 2023\n",
      "university NUS\n"
     ]
    }
   ],
   "source": [
    "## Iterating through Dictionaries\n",
    "## loops to iterate through keys, values, or key-value pairs\n",
    "for key in student:\n",
    "    print(key, student[key]) # Iterating through keys and printing key-value pairs\n",
    "for value in student.values():\n",
    "    print(value) # Iterating through values and printing them  \n",
    "for key, value in student.items():\n",
    "    print(key, value) # Iterating through key-value pairs and printing them"
   ]
  },
  {
   "cell_type": "code",
   "execution_count": 14,
   "id": "c9869806",
   "metadata": {},
   "outputs": [
    {
     "name": "stdout",
     "output_type": "stream",
     "text": [
      "{'student1': {'name': 'Alice', 'age': 21}, 'student2': {'name': 'Bob', 'age': 22}}\n"
     ]
    }
   ],
   "source": [
    "## Nested Dictionaries\n",
    "nested_dict = {\n",
    "    \"student1\": {\"name\": \"Alice\", \"age\": 21},\n",
    "    \"student2\": {\"name\": \"Bob\", \"age\": 22}\n",
    "}\n",
    "print(nested_dict)"
   ]
  },
  {
   "cell_type": "code",
   "execution_count": 15,
   "id": "39ad5039",
   "metadata": {},
   "outputs": [
    {
     "name": "stdout",
     "output_type": "stream",
     "text": [
      "Alice\n",
      "22\n",
      "Not Found\n",
      "{'student1': {'name': 'Alice', 'age': 22}, 'student2': {'name': 'Bob', 'age': 22}}\n",
      "{'student1': {'name': 'Alice', 'age': 22}, 'student2': {'name': 'Bob', 'age': 22}, 'student3': {'name': 'Charlie', 'age': 23}}\n",
      "{'student1': {'name': 'Alice', 'age': 22}, 'student2': {'name': 'Bob'}, 'student3': {'name': 'Charlie', 'age': 23}}\n",
      "{'student1': {'name': 'Alice', 'age': 22, 'year': 2023}, 'student2': {'name': 'Bob'}, 'student3': {'name': 'Charlie', 'age': 23}}\n",
      "{'student1': {'name': 'Alice', 'age': 22, 'year': 2023}, 'student2': {'name': 'Bob', 'university': 'NUS'}, 'student3': {'name': 'Charlie', 'age': 23}}\n",
      "{'student1': {}, 'student2': {'name': 'Bob', 'university': 'NUS'}, 'student3': {'name': 'Charlie', 'age': 23}}\n",
      "{'student1': {}, 'student2': {'name': 'Bob'}, 'student3': {'name': 'Charlie', 'age': 23}}\n",
      "{'student1': {'name': 'Alice'}, 'student2': {'name': 'Bob'}, 'student3': {'name': 'Charlie', 'age': 23}}\n"
     ]
    }
   ],
   "source": [
    "## Accessing Nested Dictionaries\n",
    "print(nested_dict[\"student1\"][\"name\"]) # Accessing nested dictionary value\n",
    "print(nested_dict[\"student2\"].get(\"age\")) # Using get method to access nested dictionary value\n",
    "print(nested_dict.get(\"student3\", \"Not Found\")) # Accessing a non-existent nested dictionary key with default value\n",
    "nested_dict[\"student1\"][\"age\"] = 22 # Updating nested dictionary value\n",
    "print(nested_dict)\n",
    "nested_dict[\"student3\"] = {\"name\": \"Charlie\", \"age\": 23} # Adding a new nested dictionary\n",
    "print(nested_dict)  \n",
    "nested_dict[\"student2\"].pop(\"age\") # Removing a key from a nested dictionary\n",
    "print(nested_dict)  \n",
    "nested_dict[\"student1\"].update({\"year\": 2023}) # Updating a nested dictionary with new key-value pairs\n",
    "print(nested_dict) # Printing the updated nested dictionary\n",
    "nested_dict[\"student2\"][\"university\"] = \"NUS\" # Adding a new key-value pair to a nested dictionary\n",
    "print(nested_dict) # Printing the nested dictionary after adding a new key-value pair\n",
    "nested_dict[\"student1\"].clear() # Clearing a nested dictionary\n",
    "print(nested_dict) # Printing the nested dictionary after clearing a nested dictionary\n",
    "nested_dict[\"student2\"].popitem() # Popping the last item from a nested dictionary\n",
    "print(nested_dict) # Printing the nested dictionary after popping the last item\n",
    "nested_dict[\"student1\"][\"name\"] = \"Alice\" # Updating a nested dictionary value\n",
    "print(nested_dict) # Printing the nested dictionary after updating a value\n"
   ]
  },
  {
   "cell_type": "code",
   "execution_count": 16,
   "id": "910b91c7",
   "metadata": {},
   "outputs": [
    {
     "name": "stdout",
     "output_type": "stream",
     "text": [
      "student1:\n",
      "  name: Alice\n",
      "student2:\n",
      "  name: Bob\n",
      "student3:\n",
      "  name: Charlie\n",
      "  age: 23\n"
     ]
    }
   ],
   "source": [
    "## Iterating over Nested Dictionaries\n",
    "for student_key, student_info in nested_dict.items():\n",
    "    print(f\"{student_key}:\")\n",
    "    for key, value in student_info.items():\n",
    "        print(f\"  {key}: {value}\") # Iterating through nested dictionary and printing key-value pairs"
   ]
  },
  {
   "cell_type": "code",
   "execution_count": 17,
   "id": "f5b495dc",
   "metadata": {},
   "outputs": [
    {
     "name": "stdout",
     "output_type": "stream",
     "text": [
      "{1: 1, 2: 4, 3: 9, 4: 16, 5: 25}\n"
     ]
    }
   ],
   "source": [
    "## Dictionary Comprehensions\n",
    "squared_numbers = {x: x**2 for x in range(1, 6)} # Creating a dictionary with numbers as keys and their squares as values\n",
    "print(squared_numbers) # Printing the dictionary with squared numbers"
   ]
  },
  {
   "cell_type": "code",
   "execution_count": 18,
   "id": "3ef8667d",
   "metadata": {},
   "outputs": [
    {
     "name": "stdout",
     "output_type": "stream",
     "text": [
      "{2: 4, 4: 16, 6: 36, 8: 64, 10: 100}\n"
     ]
    }
   ],
   "source": [
    "## Conditional Dictionary Comprehensions\n",
    "even_squares = {x: x**2 for x in range(1, 11) if x % 2 == 0} # Creating a dictionary with even numbers as keys and their squares as values\n",
    "print(even_squares) # Printing the dictionary with even squared numbers"
   ]
  },
  {
   "cell_type": "code",
   "execution_count": 19,
   "id": "52fba4aa",
   "metadata": {},
   "outputs": [
    {
     "name": "stdout",
     "output_type": "stream",
     "text": [
      "Added 'apple' to the dictionary.\n",
      "Added 'banana' to the dictionary.\n",
      "Added 'orange' to the dictionary.\n",
      "{'apple': 3, 'banana': 2, 'orange': 1}\n"
     ]
    }
   ],
   "source": [
    "## Practical Examples\n",
    "\n",
    "## Use a dictionary to count the frequency of words in a list\n",
    "words = [\"apple\", \"banana\", \"apple\", \"orange\", \"banana\", \"apple\"]\n",
    "word_count = {}\n",
    "for word in words:\n",
    "    if word in word_count:\n",
    "        word_count[word] += 1\n",
    "    else:\n",
    "        word_count[word] = 1\n",
    "        print(f\"Added '{word}' to the dictionary.\")\n",
    "print(word_count) # Printing the word count dictionary"
   ]
  },
  {
   "cell_type": "code",
   "execution_count": 20,
   "id": "961635ab",
   "metadata": {},
   "outputs": [
    {
     "name": "stdout",
     "output_type": "stream",
     "text": [
      "{'Alice': 85, 'Bob': 90, 'Charlie': 78, 'David': 92, 'Eve': 88}\n"
     ]
    }
   ],
   "source": [
    "## Use a dictionary to store student grades\n",
    "grades = {\n",
    "    \"Alice\": 85,\n",
    "    \"Bob\": 90,\n",
    "    \"Charlie\": 78,\n",
    "    \"David\": 92,\n",
    "    \"Eve\": 88\n",
    "}\n",
    "print(grades) # Printing the student grades dictionary"
   ]
  },
  {
   "cell_type": "code",
   "execution_count": 21,
   "id": "a2b73dbe",
   "metadata": {},
   "outputs": [
    {
     "name": "stdout",
     "output_type": "stream",
     "text": [
      "{'apple': 0.5, 'banana': 0.3, 'orange': 0.4, 'grape': 0.6, 'kiwi': 0.8}\n",
      "{'emp1': {'name': 'John', 'age': 30, 'department': 'HR'}, 'emp2': {'name': 'Jane', 'age': 25, 'department': 'Finance'}, 'emp3': {'name': 'Mike', 'age': 35, 'department': 'IT'}}\n",
      "{'USA': 'Washington, D.C.', 'Canada': 'Ottawa', 'UK': 'London', 'France': 'Paris', 'Germany': 'Berlin'}\n"
     ]
    }
   ],
   "source": [
    "## Real world example: Use a dictionary to store product prices\n",
    "products = {\n",
    "    \"apple\": 0.5,\n",
    "    \"banana\": 0.3,\n",
    "    \"orange\": 0.4,\n",
    "    \"grape\": 0.6,\n",
    "    \"kiwi\": 0.8\n",
    "}\n",
    "print(products) # Printing the product prices dictionary\n",
    "## Use a dictionary to store employee information\n",
    "employees = {\n",
    "    \"emp1\": {\"name\": \"John\", \"age\": 30, \"department\": \"HR\"},\n",
    "    \"emp2\": {\"name\": \"Jane\", \"age\": 25, \"department\": \"Finance\"},\n",
    "    \"emp3\": {\"name\": \"Mike\", \"age\": 35, \"department\": \"IT\"}\n",
    "}\n",
    "print(employees) # Printing the employee information dictionary\n",
    "## Use a dictionary to store country capitals\n",
    "capitals = {\n",
    "    \"USA\": \"Washington, D.C.\",\n",
    "    \"Canada\": \"Ottawa\",\n",
    "    \"UK\": \"London\", \n",
    "    \"France\": \"Paris\",\n",
    "    \"Germany\": \"Berlin\"\n",
    "}\n",
    "print(capitals) # Printing the country capitals dictionary\n",
    "\n"
   ]
  },
  {
   "cell_type": "code",
   "execution_count": null,
   "id": "ad5e2d60",
   "metadata": {},
   "outputs": [
    {
     "name": "stdout",
     "output_type": "stream",
     "text": [
      "{'a': 1, 'b': 3, 'c': 4}\n"
     ]
    }
   ],
   "source": [
    "## Merge two dictionaries into one\n",
    "\n",
    "dict1 = {\"a\": 1, \"b\": 2}\n",
    "dict2 = {\"b\": 3, \"c\": 4}\n",
    "merged_dict = {**dict1, **dict2} # Merging two dictionaries using unpacking\n",
    "print(merged_dict) # Printing the merged dictionary\n"
   ]
  }
 ],
 "metadata": {
  "kernelspec": {
   "display_name": "Python 3",
   "language": "python",
   "name": "python3"
  },
  "language_info": {
   "codemirror_mode": {
    "name": "ipython",
    "version": 3
   },
   "file_extension": ".py",
   "mimetype": "text/x-python",
   "name": "python",
   "nbconvert_exporter": "python",
   "pygments_lexer": "ipython3",
   "version": "3.12.0"
  }
 },
 "nbformat": 4,
 "nbformat_minor": 5
}

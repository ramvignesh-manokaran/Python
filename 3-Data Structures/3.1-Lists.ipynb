{
 "cells": [
  {
   "cell_type": "markdown",
   "id": "0a3633cd",
   "metadata": {},
   "source": [
    "### Introduction to Lists"
   ]
  },
  {
   "cell_type": "markdown",
   "id": "816bb4f0",
   "metadata": {},
   "source": [
    "\n",
    "    Lists are ordered, mutable collections of items.\n",
    "    They can contain items of different data types.\n"
   ]
  },
  {
   "cell_type": "markdown",
   "id": "9c557a95",
   "metadata": {},
   "source": [
    "Outline:\n",
    "\n",
    "    Introduction to Lists\n",
    "    Creating Lists\n",
    "    Accessing List Elements\n",
    "    Modifying List Elements\n",
    "    List Methods\n",
    "    Slicing Lists\n",
    "    Iterating Over Lists\n",
    "    List Comprehensions\n",
    "    Nested Lists\n",
    "    Practical Examples and Common Errors\n"
   ]
  },
  {
   "cell_type": "code",
   "execution_count": 2,
   "id": "390f4ec6",
   "metadata": {},
   "outputs": [
    {
     "name": "stdout",
     "output_type": "stream",
     "text": [
      "<class 'list'>\n"
     ]
    }
   ],
   "source": [
    "lst = []\n",
    "print(type(lst))"
   ]
  },
  {
   "cell_type": "code",
   "execution_count": 4,
   "id": "48c9ae2d",
   "metadata": {},
   "outputs": [
    {
     "name": "stdout",
     "output_type": "stream",
     "text": [
      "['ram', 'vig', 'raj', 1, 2, 3, 4]\n"
     ]
    }
   ],
   "source": [
    "names=['ram', 'vig', 'raj', 1, 2, 3, 4]\n",
    "print(names)"
   ]
  },
  {
   "cell_type": "code",
   "execution_count": 6,
   "id": "202eba80",
   "metadata": {},
   "outputs": [
    {
     "name": "stdout",
     "output_type": "stream",
     "text": [
      "[1, 'Hello', 3.14, True]\n"
     ]
    }
   ],
   "source": [
    "mixed_list=[1, \"Hello\", 3.14, True]\n",
    "print(mixed_list)"
   ]
  },
  {
   "cell_type": "code",
   "execution_count": 7,
   "id": "5c2afe23",
   "metadata": {},
   "outputs": [
    {
     "name": "stdout",
     "output_type": "stream",
     "text": [
      "apple\n",
      "banana\n",
      "orange\n"
     ]
    }
   ],
   "source": [
    "### Accessing List Elements\n",
    "\n",
    "fruits=['apple', 'banana', 'cherry', 'kiwi', 'orange']\n",
    "print(fruits[0])  # Accessing the first element\n",
    "print(fruits[1])  # Accessing the second element\n",
    "print(fruits[-1]) # Accessing the last element"
   ]
  },
  {
   "cell_type": "code",
   "execution_count": 22,
   "id": "f1f12c87",
   "metadata": {},
   "outputs": [
    {
     "name": "stdout",
     "output_type": "stream",
     "text": [
      "['banana', 'cherry']\n",
      "['apple', 'banana']\n",
      "['apple', 'banana', 'cherry', 'kiwi', 'orange']\n",
      "['kiwi', 'orange']\n"
     ]
    }
   ],
   "source": [
    "print(fruits[1:3])\n",
    "print(fruits[:2])\n",
    "print(fruits[0:])\n",
    "print(fruits[-2:])"
   ]
  },
  {
   "cell_type": "code",
   "execution_count": 23,
   "id": "702afb2f",
   "metadata": {},
   "outputs": [
    {
     "name": "stdout",
     "output_type": "stream",
     "text": [
      "['avocado', 'banana', 'cherry', 'kiwi', 'orange', 'grape']\n"
     ]
    }
   ],
   "source": [
    "## modifying the lists elements\n",
    "\n",
    "fruits[0] = 'avocado'  # Modifying the first element\n",
    "fruits.append('grape')  # Adding a new element\n",
    "print(fruits)\n"
   ]
  },
  {
   "cell_type": "code",
   "execution_count": 25,
   "id": "49fc5003",
   "metadata": {},
   "outputs": [
    {
     "name": "stdout",
     "output_type": "stream",
     "text": [
      "['avocado', 'blueberry', 'blackberry']\n"
     ]
    }
   ],
   "source": [
    "fruits[1:] = ['blueberry', 'blackberry']\n",
    "print(fruits)\n"
   ]
  },
  {
   "cell_type": "code",
   "execution_count": null,
   "id": "0bcc57a3",
   "metadata": {},
   "outputs": [
    {
     "name": "stdout",
     "output_type": "stream",
     "text": [
      "['mango', 'cherry', 'kiwi', 'orange', 'apple', 'banana', 'grape']\n",
      "['apple', 'banana', 'cherry', 'grape', 'kiwi', 'mango', 'orange']\n",
      "['orange', 'mango', 'kiwi', 'grape', 'cherry', 'banana', 'apple']\n"
     ]
    }
   ],
   "source": [
    "## list methods\n",
    "\n",
    "fruits=[ 'cherry', 'kiwi', 'orange', 'apple', 'banana']\n",
    "fruits.append('grape') ## This adds 'grape' to the end of the list\n",
    "fruits.insert(0, 'mango') ## This adds 'mango' to the beginning of the list\n",
    "print(fruits)\n",
    "\n",
    "fruits.sort() ## Sort all elements in alphabetical order\n",
    "print(fruits)\n",
    "\n",
    "fruits.reverse() ## Reverse the order of the list\n",
    "print(fruits)\n"
   ]
  },
  {
   "cell_type": "code",
   "execution_count": 31,
   "id": "96b6be23",
   "metadata": {},
   "outputs": [
    {
     "name": "stdout",
     "output_type": "stream",
     "text": [
      "['orange', 'mango', 'kiwi', 'grape', 'cherry', 'apple']\n",
      "[]\n"
     ]
    }
   ],
   "source": [
    "## Remove and Clear Elements\n",
    "\n",
    "fruits.remove('banana')  # Removing a specific element\n",
    "print(fruits)\n",
    "\n",
    "fruits.clear()  # Removing all elements\n",
    "print(fruits)\n"
   ]
  },
  {
   "cell_type": "code",
   "execution_count": 34,
   "id": "0190456a",
   "metadata": {},
   "outputs": [
    {
     "name": "stdout",
     "output_type": "stream",
     "text": [
      "banana\n",
      "['cherry', 'kiwi', 'orange', 'apple']\n",
      "['cherry', 'kiwi', 'orange']\n"
     ]
    }
   ],
   "source": [
    "## Remove and return the last element\n",
    "fruits=[ 'cherry', 'kiwi', 'orange', 'apple', 'banana']\n",
    "last_fruit = fruits.pop()\n",
    "print(last_fruit)\n",
    "print(fruits)\n",
    "fruits.pop()\n",
    "print(fruits)\n"
   ]
  },
  {
   "cell_type": "code",
   "execution_count": 40,
   "id": "fade784f",
   "metadata": {},
   "outputs": [
    {
     "name": "stdout",
     "output_type": "stream",
     "text": [
      "1\n"
     ]
    }
   ],
   "source": [
    "fruits=[ 'cherry', 'kiwi', 'orange', 'apple', 'banana']\n",
    "index = fruits.index('kiwi')\n",
    "print(index)"
   ]
  },
  {
   "cell_type": "code",
   "execution_count": 41,
   "id": "e4a989b7",
   "metadata": {},
   "outputs": [
    {
     "name": "stdout",
     "output_type": "stream",
     "text": [
      "['cherry', 'kiwi', 'banana', 'orange', 'apple', 'banana']\n",
      "2\n"
     ]
    }
   ],
   "source": [
    "fruits.insert(2, 'banana')\n",
    "print(fruits)\n",
    "print(fruits.count('banana'))\n"
   ]
  },
  {
   "cell_type": "code",
   "execution_count": 47,
   "id": "e903b2ac",
   "metadata": {},
   "outputs": [
    {
     "name": "stdout",
     "output_type": "stream",
     "text": [
      "[2, 3, 4]\n",
      "[1, 2, 3, 4, 5]\n",
      "[6, 7, 8, 9, 10]\n",
      "[8, 9, 10]\n",
      "[1, 3, 5, 7, 9]\n",
      "[10, 9, 8, 7, 6, 5, 4, 3, 2, 1]\n"
     ]
    }
   ],
   "source": [
    "## Slicing lists\n",
    "numbers = [1, 2, 3, 4, 5, 6, 7, 8, 9, 10]\n",
    "print(numbers[1:4])  # Slicing from index 1 to 3\n",
    "print(numbers[:5])   # Slicing from the beginning to index 4\n",
    "print(numbers[5:])   # Slicing from index 5 to the end\n",
    "print(numbers[-3:])  # Slicing the last 3 elements\n",
    "print(numbers[::2])  # Slicing with a step (every second element)\n",
    "print(numbers[::-1])  # Slicing to reverse the list"
   ]
  },
  {
   "cell_type": "code",
   "execution_count": 48,
   "id": "984771f7",
   "metadata": {},
   "outputs": [
    {
     "name": "stdout",
     "output_type": "stream",
     "text": [
      "cherry\n",
      "kiwi\n",
      "orange\n",
      "apple\n",
      "banana\n"
     ]
    }
   ],
   "source": [
    "## Iterating over lists\n",
    "fruits = ['cherry', 'kiwi', 'orange', 'apple', 'banana']\n",
    "for fruit in fruits:\n",
    "    print(fruit)"
   ]
  },
  {
   "cell_type": "code",
   "execution_count": 49,
   "id": "eb2a8d7c",
   "metadata": {},
   "outputs": [
    {
     "name": "stdout",
     "output_type": "stream",
     "text": [
      "1\n",
      "2\n",
      "3\n",
      "4\n",
      "5\n",
      "6\n",
      "7\n",
      "8\n",
      "9\n",
      "10\n"
     ]
    }
   ],
   "source": [
    "for number in numbers:\n",
    "    print(number)"
   ]
  },
  {
   "cell_type": "code",
   "execution_count": 52,
   "id": "0f929eca",
   "metadata": {},
   "outputs": [
    {
     "name": "stdout",
     "output_type": "stream",
     "text": [
      "0 1\n",
      "1 2\n",
      "2 3\n",
      "3 4\n",
      "4 5\n",
      "5 6\n",
      "6 7\n",
      "7 8\n",
      "8 9\n",
      "9 10\n"
     ]
    }
   ],
   "source": [
    "## Iterating with index\n",
    "for index, number in enumerate(numbers):\n",
    "    print(index, number)"
   ]
  },
  {
   "cell_type": "code",
   "execution_count": 53,
   "id": "7c0bc635",
   "metadata": {},
   "outputs": [
    {
     "name": "stdout",
     "output_type": "stream",
     "text": [
      "[1, 4, 9, 16, 25, 36, 49, 64, 81, 100]\n"
     ]
    }
   ],
   "source": [
    "## List comprehensions\n",
    "squared_numbers = [x**2 for x in numbers]\n",
    "print(squared_numbers)\n"
   ]
  },
  {
   "cell_type": "markdown",
   "id": "1b5dcb91",
   "metadata": {},
   "source": [
    "##### List Comprehensions\n",
    "\n",
    "Basics Syntax [expression for item in iterables]\n",
    "\n",
    "with conditional logic [ expression for item in iterables if condition]\n",
    "\n",
    "Nested List Comprehension [ expression for item1 in iterable1 for item2 in iterable2]"
   ]
  },
  {
   "cell_type": "code",
   "execution_count": 56,
   "id": "032b5ea8",
   "metadata": {},
   "outputs": [
    {
     "name": "stdout",
     "output_type": "stream",
     "text": [
      "[4, 8, 12, 16, 20]\n"
     ]
    }
   ],
   "source": [
    "## List Comprehension with condition\n",
    "even_numbers = [x*2 for x in numbers if x % 2 == 0]\n",
    "print(even_numbers)\n"
   ]
  },
  {
   "cell_type": "code",
   "execution_count": 58,
   "id": "d4095566",
   "metadata": {},
   "outputs": [
    {
     "name": "stdout",
     "output_type": "stream",
     "text": [
      "[1, 2, 3, 4, 5, 6, 7, 8, 9]\n",
      "[[1, 4], [1, 5], [1, 6], [2, 4], [2, 5], [2, 6], [3, 4], [3, 5], [3, 6]]\n"
     ]
    }
   ],
   "source": [
    "## Nested List Comprehensions\n",
    "matrix = [[1, 2, 3], [4, 5, 6], [7, 8, 9]]\n",
    "flattened = [num for row in matrix for num in row]\n",
    "print(flattened)\n",
    "\n",
    "lst1 = [1, 2, 3]\n",
    "lst2 = [4, 5, 6]\n",
    "nested_list = [[x, y] for x in lst1 for y in lst2]\n",
    "print(nested_list)\n"
   ]
  },
  {
   "cell_type": "code",
   "execution_count": 62,
   "id": "56fb421a",
   "metadata": {},
   "outputs": [
    {
     "name": "stdout",
     "output_type": "stream",
     "text": [
      "[5, 5, 6]\n"
     ]
    }
   ],
   "source": [
    "## List Comprehensions with function calls\n",
    "words = ['hello', 'world', 'python']\n",
    "capitalized_words = [len(word) for word in words]\n",
    "print(capitalized_words)"
   ]
  },
  {
   "cell_type": "markdown",
   "id": "6b842f16",
   "metadata": {},
   "source": [
    "### Conclusion"
   ]
  },
  {
   "cell_type": "markdown",
   "id": "9ec6e7fb",
   "metadata": {},
   "source": [
    "\n",
    "List comprehensions are a powerful and concise way to create lists in Python. They are syntactically compact and can replace more verbose looping constructs. Understanding the syntax of list comprehensions will help you write cleaner and more efficient Python code.\n"
   ]
  },
  {
   "cell_type": "markdown",
   "id": "4b9e5bd1",
   "metadata": {},
   "source": []
  }
 ],
 "metadata": {
  "kernelspec": {
   "display_name": "Python 3",
   "language": "python",
   "name": "python3"
  },
  "language_info": {
   "codemirror_mode": {
    "name": "ipython",
    "version": 3
   },
   "file_extension": ".py",
   "mimetype": "text/x-python",
   "name": "python",
   "nbconvert_exporter": "python",
   "pygments_lexer": "ipython3",
   "version": "3.12.0"
  }
 },
 "nbformat": 4,
 "nbformat_minor": 5
}

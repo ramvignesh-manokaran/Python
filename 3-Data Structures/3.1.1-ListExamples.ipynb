{
 "cells": [
  {
   "cell_type": "markdown",
   "id": "fe3bbdca",
   "metadata": {},
   "source": [
    "### Example 1. Manage A To Do List"
   ]
  },
  {
   "cell_type": "markdown",
   "id": "e69c5793",
   "metadata": {},
   "source": [
    "Create a TO Do List to Keep track of tasks"
   ]
  },
  {
   "cell_type": "code",
   "execution_count": 3,
   "id": "4aff632f",
   "metadata": {},
   "outputs": [
    {
     "name": "stdout",
     "output_type": "stream",
     "text": [
      "You have homework to finish!\n",
      "To Do List:\n",
      "- Buy Groceries\n",
      "- Finish Homework\n",
      "- Walk the Dog\n",
      "- Read a Book\n"
     ]
    }
   ],
   "source": [
    "to_do_list=[\"Buy Groceries\", \"Clean the House\", \"Finish Homework\"]\n",
    "\n",
    "## Adding to tasks\n",
    "to_do_list.append(\"Walk the Dog\")\n",
    "to_do_list.append(\"Read a Book\")\n",
    "\n",
    "## Removing tasks\n",
    "to_do_list.remove(\"Clean the House\")\n",
    "\n",
    "## Checking if a task is in the list\n",
    "if \"Finish Homework\" in to_do_list:\n",
    "    print(\"You have homework to finish!\")\n",
    "\n",
    "## Displaying the list\n",
    "print(\"To Do List:\")\n",
    "for task in to_do_list:\n",
    "    print(f\"- {task}\")"
   ]
  },
  {
   "cell_type": "markdown",
   "id": "41ca55d5",
   "metadata": {},
   "source": [
    "### Example 2 : Organising Student Grades"
   ]
  },
  {
   "cell_type": "code",
   "execution_count": 4,
   "id": "3f1a25e1",
   "metadata": {},
   "outputs": [
    {
     "name": "stdout",
     "output_type": "stream",
     "text": [
      "Average Grade: 90.00\n",
      "Highest Grade: 95\n",
      "Lowest Grade: 85\n",
      "Organised Grades:\n",
      "- 85\n",
      "- 88\n",
      "- 90\n",
      "- 92\n",
      "- 95\n"
     ]
    }
   ],
   "source": [
    "## Organising Student Grades\n",
    "grades = [85, 90, 78, 92, 88]\n",
    "grades.append(95)  # Adding a new grade\n",
    "grades.remove(78)  # Removing a grade\n",
    "grades.sort()  # Sorting the grades in ascending order\n",
    "\n",
    "## Calculating average grade\n",
    "average_grade = sum(grades) / len(grades)\n",
    "print(f\"Average Grade: {average_grade:.2f}\")\n",
    "\n",
    "## Finding the highest and lowest grades\n",
    "highest_grade = max(grades)\n",
    "lowest_grade = min(grades)\n",
    "print(f\"Highest Grade: {highest_grade}\")\n",
    "print(f\"Lowest Grade: {lowest_grade}\")\n",
    "\n",
    "## Displaying the organised grades\n",
    "print(\"Organised Grades:\")\n",
    "for grade in grades:\n",
    "    print(f\"- {grade}\") \n"
   ]
  },
  {
   "cell_type": "markdown",
   "id": "03799f50",
   "metadata": {},
   "source": [
    "### Example 3: Managing a Inventory"
   ]
  },
  {
   "cell_type": "code",
   "execution_count": 5,
   "id": "90f0bb25",
   "metadata": {},
   "outputs": [
    {
     "name": "stdout",
     "output_type": "stream",
     "text": [
      "Oranges are available.\n",
      "Current Inventory:\n",
      "- Apples\n",
      "- Oranges\n",
      "- Grapes\n",
      "Sorted Inventory:\n",
      "- Apples\n",
      "- Grapes\n",
      "- Oranges\n",
      "Total items in inventory: 3\n"
     ]
    }
   ],
   "source": [
    "## Managing an Inventory\n",
    "inventory = [\"Apples\", \"Bananas\", \"Oranges\"]\n",
    "inventory.append(\"Grapes\")  # Adding a new item\n",
    "inventory.remove(\"Bananas\")  # Removing an item\n",
    "\n",
    "## Checking if an item is in the inventory\n",
    "if \"Oranges\" in inventory:\n",
    "    print(\"Oranges are available.\")\n",
    "\n",
    "## Displaying the inventory\n",
    "print(\"Current Inventory:\")\n",
    "for item in inventory:\n",
    "    print(f\"- {item}\")\n",
    "\n",
    "## Sorting the inventory\n",
    "inventory.sort()\n",
    "print(\"Sorted Inventory:\")\n",
    "for item in inventory:\n",
    "    print(f\"- {item}\")\n",
    "    \n",
    "## Counting items in the inventory\n",
    "item_count = len(inventory)\n",
    "print(f\"Total items in inventory: {item_count}\")"
   ]
  },
  {
   "cell_type": "markdown",
   "id": "ac586365",
   "metadata": {},
   "source": [
    "### Example 4 : Collecting User Feedback"
   ]
  },
  {
   "cell_type": "code",
   "execution_count": 6,
   "id": "075cf736",
   "metadata": {},
   "outputs": [
    {
     "name": "stdout",
     "output_type": "stream",
     "text": [
      "User Feedback:\n",
      "- Great service!\n",
      "- Very satisfied\n",
      "- Excellent quality\n",
      "- Loved the product!\n",
      "Total feedback received: 4\n",
      "Positive feedback count: 2\n",
      "Sorted Feedback:\n",
      "- Excellent quality\n",
      "- Great service!\n",
      "- Loved the product!\n",
      "- Very satisfied\n"
     ]
    }
   ],
   "source": [
    "## Collecting User Feedback\n",
    "feedback = [\"Great service!\", \"Very satisfied\", \"Could be better\", \"Excellent quality\"]\n",
    "feedback.append(\"Loved the product!\")  # Adding new feedback\n",
    "feedback.remove(\"Could be better\")  # Removing feedback\n",
    "\n",
    "## Displaying the feedback\n",
    "print(\"User Feedback:\")\n",
    "for comment in feedback:\n",
    "    print(f\"- {comment}\")\n",
    "\n",
    "## Counting feedback\n",
    "feedback_count = len(feedback)\n",
    "print(f\"Total feedback received: {feedback_count}\")\n",
    "\n",
    "## Counting specific feedback\n",
    "positive_feedback_count = sum(1 for comment in feedback if \"Great\" in comment or \"Excellent\" in comment)\n",
    "print(f\"Positive feedback count: {positive_feedback_count}\")\n",
    "\n",
    "## Sorting feedback\n",
    "feedback.sort()\n",
    "print(\"Sorted Feedback:\")\n",
    "for comment in feedback:\n",
    "    print(f\"- {comment}\")   "
   ]
  },
  {
   "cell_type": "code",
   "execution_count": null,
   "id": "189bc0b8",
   "metadata": {},
   "outputs": [],
   "source": []
  },
  {
   "cell_type": "code",
   "execution_count": null,
   "id": "122c890a",
   "metadata": {},
   "outputs": [],
   "source": []
  }
 ],
 "metadata": {
  "kernelspec": {
   "display_name": "Python 3",
   "language": "python",
   "name": "python3"
  },
  "language_info": {
   "codemirror_mode": {
    "name": "ipython",
    "version": 3
   },
   "file_extension": ".py",
   "mimetype": "text/x-python",
   "name": "python",
   "nbconvert_exporter": "python",
   "pygments_lexer": "ipython3",
   "version": "3.12.0"
  }
 },
 "nbformat": 4,
 "nbformat_minor": 5
}

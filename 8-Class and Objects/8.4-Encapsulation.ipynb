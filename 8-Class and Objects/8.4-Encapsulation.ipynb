{
 "cells": [
  {
   "cell_type": "markdown",
   "id": "df61842c",
   "metadata": {},
   "source": [
    "### Encapsulation and Abstraction"
   ]
  },
  {
   "cell_type": "markdown",
   "id": "3aa9e9f0",
   "metadata": {},
   "source": [
    "Encapsulation and abstraction are two fundamental principles of Object-Oriented Programming (OOP) that help in designing robust, maintainable, and reusable code. Encapsulation involves bundling data and methods that operate on the data within a single unit, while abstraction involves hiding complex implementation details and exposing only the necessary features."
   ]
  },
  {
   "cell_type": "markdown",
   "id": "bc93b1e3",
   "metadata": {},
   "source": [
    "\n",
    "Encapsulation\n",
    "\n",
    "Encapsulation is the concept of wrapping data (variables) and methods (functions) together as a single unit. It restricts direct access to some of the object's components, which is a means of preventing accidental interference and misuse of the data.\n"
   ]
  },
  {
   "cell_type": "code",
   "execution_count": 4,
   "id": "91bfc1d0",
   "metadata": {},
   "outputs": [
    {
     "name": "stdout",
     "output_type": "stream",
     "text": [
      "Alice\n"
     ]
    }
   ],
   "source": [
    "### Encapsulation with Getter and Setter methods\n",
    "### Public, Protected, and Private Access Modifiers\n",
    "\n",
    "\n",
    "class Person:\n",
    "    def __init__(self, name, age):\n",
    "        self.name = name    ## public variable\n",
    "        self.age = age      ## public variable\n",
    "\n",
    "    # Getter for name\n",
    "    def get_name(self):\n",
    "        return self.name\n",
    "\n",
    "person = Person(\"Alice\", 30)\n",
    "print(person.get_name())"
   ]
  },
  {
   "cell_type": "code",
   "execution_count": 8,
   "id": "12512597",
   "metadata": {},
   "outputs": [
    {
     "name": "stdout",
     "output_type": "stream",
     "text": [
      "Alice\n",
      "30\n",
      "Female\n"
     ]
    }
   ],
   "source": [
    "class Person:\n",
    "    def __init__(self, name, age, gender):\n",
    "        self.__name = name    ## private variable\n",
    "        self.__age = age      ## private variable\n",
    "        self.gender = gender ## public variable\n",
    "\n",
    "    def get_name(self):\n",
    "        return self.__name\n",
    "\n",
    "    def get_age(self):\n",
    "        return self.__age\n",
    "\n",
    "    def get_gender(self):\n",
    "        return self.gender\n",
    "\n",
    "person=Person(\"Alice\", 30, \"Female\")\n",
    "print(person.get_name())\n",
    "print(person.get_age())\n",
    "print(person.get_gender())"
   ]
  },
  {
   "cell_type": "code",
   "execution_count": 21,
   "id": "cc9fb9dd",
   "metadata": {},
   "outputs": [
    {
     "name": "stdout",
     "output_type": "stream",
     "text": [
      "Bob\n",
      "28\n",
      "Male\n"
     ]
    }
   ],
   "source": [
    "class Person:\n",
    "    def __init__(self, name, age, gender):\n",
    "        self._name = name    ## protected variable\n",
    "        self._age = age      ## protected variable\n",
    "        self.gender = gender ## public variable\n",
    "\n",
    "class Employee(Person):\n",
    "    def __init__(self, name, age, gender):\n",
    "        super().__init__(name, age, gender)\n",
    "        \n",
    "\n",
    "employee=Employee(\"Bob\", 28, \"Male\")\n",
    "print(employee._name)\n",
    "print(employee._age)\n",
    "print(employee.gender)"
   ]
  },
  {
   "cell_type": "code",
   "execution_count": 24,
   "id": "aac74744",
   "metadata": {},
   "outputs": [
    {
     "name": "stdout",
     "output_type": "stream",
     "text": [
      "Alice\n",
      "30\n",
      "Bob\n",
      "35\n",
      "Invalid age. Age must be positive.\n"
     ]
    }
   ],
   "source": [
    "### Encapsulation with getter and setter methods\n",
    "class Person:\n",
    "    def __init__(self, name, age):\n",
    "        self.__name=name\n",
    "        self.__age=age\n",
    "\n",
    "    # Getter for Name\n",
    "    def get_name(self):\n",
    "        return self.__name\n",
    "\n",
    "    # Getter for Age\n",
    "    def get_age(self):\n",
    "        return self.__age\n",
    "\n",
    "    # Setter for Name\n",
    "    def set_name(self, name):\n",
    "        self.__name = name\n",
    "\n",
    "    # Setter for Age\n",
    "    def set_age(self, age):\n",
    "        if age > 0:\n",
    "            self.__age = age\n",
    "        else:\n",
    "            print(\"Invalid age. Age must be positive.\")\n",
    "\n",
    "person=Person(\"Alice\", 30)\n",
    "\n",
    "## Access and modify private variables using getter and setter methods\n",
    "print(person.get_name())\n",
    "print(person.get_age())\n",
    "\n",
    "person.set_name(\"Bob\")\n",
    "person.set_age(35)\n",
    "\n",
    "print(person.get_name())\n",
    "print(person.get_age())\n",
    "\n",
    "person.set_age(-5)\n"
   ]
  }
 ],
 "metadata": {
  "kernelspec": {
   "display_name": "Python 3",
   "language": "python",
   "name": "python3"
  },
  "language_info": {
   "codemirror_mode": {
    "name": "ipython",
    "version": 3
   },
   "file_extension": ".py",
   "mimetype": "text/x-python",
   "name": "python",
   "nbconvert_exporter": "python",
   "pygments_lexer": "ipython3",
   "version": "3.12.0"
  }
 },
 "nbformat": 4,
 "nbformat_minor": 5
}

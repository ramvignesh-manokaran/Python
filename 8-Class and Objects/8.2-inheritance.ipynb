{
 "cells": [
  {
   "cell_type": "markdown",
   "id": "f763c060",
   "metadata": {},
   "source": [
    "\n",
    "Inheritance In Python\n",
    "\n",
    "Inheritance is a fundamental concept in Object-Oriented Programming (OOP) that allows a class to inherit attributes and methods from another class. This lesson covers single inheritance and multiple inheritance, demonstrating how to create and use them in Python.\n"
   ]
  },
  {
   "cell_type": "code",
   "execution_count": 3,
   "id": "d32f3144",
   "metadata": {},
   "outputs": [],
   "source": [
    "## Inheritance\n",
    "\n",
    "## Parent class\n",
    "class Car:\n",
    "    def __init__(self, windows, doors, engine_type=\"petrol\"):\n",
    "        self.windows = windows\n",
    "        self.doors = doors\n",
    "        self.engine_type = engine_type\n",
    "\n",
    "    def drive(self):\n",
    "        print(f\"The car is driving with {self.windows} windows, {self.doors} doors and a {self.engine_type} engine.\")\n"
   ]
  },
  {
   "cell_type": "code",
   "execution_count": 4,
   "id": "e6fcf81e",
   "metadata": {},
   "outputs": [
    {
     "name": "stdout",
     "output_type": "stream",
     "text": [
      "The car is driving with 4 windows, 4 doors and a diesel engine.\n"
     ]
    }
   ],
   "source": [
    "car1 = Car(4, 4, \"diesel\")\n",
    "car1.drive()"
   ]
  },
  {
   "cell_type": "code",
   "execution_count": 6,
   "id": "7fcc286b",
   "metadata": {},
   "outputs": [],
   "source": [
    "class Tesla(Car):\n",
    "    def __init__(self, windows, doors, is_self_driving):\n",
    "        super().__init__(windows, doors, engine_type=\"electric\")\n",
    "        self.is_self_driving=is_self_driving\n",
    "\n",
    "    def self_drive(self):\n",
    "        print(f\"The Tesla is self-driving: {self.is_self_driving}.\")"
   ]
  },
  {
   "cell_type": "code",
   "execution_count": 7,
   "id": "87e29699",
   "metadata": {},
   "outputs": [
    {
     "name": "stdout",
     "output_type": "stream",
     "text": [
      "The car is driving with 4 windows, 4 doors and a electric engine.\n",
      "The Tesla is self-driving: True.\n"
     ]
    }
   ],
   "source": [
    "tesla1 = Tesla(4, 4, True)\n",
    "tesla1.drive()\n",
    "tesla1.self_drive()"
   ]
  },
  {
   "cell_type": "code",
   "execution_count": 8,
   "id": "1058f17a",
   "metadata": {},
   "outputs": [
    {
     "name": "stdout",
     "output_type": "stream",
     "text": [
      "Animal sound\n",
      "Alice's pet is playing.\n",
      "Buddy says Woof!\n"
     ]
    }
   ],
   "source": [
    "## Mulitple Inheritance\n",
    "\n",
    "## When a class inherits from multiple parent classes, it can access attributes and methods from all of them.\n",
    "\n",
    "## Base class 1\n",
    "class Animal:\n",
    "    def __init__(self, species):\n",
    "        self.species = species\n",
    "\n",
    "    def make_sound(self):\n",
    "        print(\"Animal sound\")\n",
    "\n",
    "## Base class 2\n",
    "class Pet:\n",
    "    def __init__(self, owner_name):\n",
    "        self.owner_name = owner_name\n",
    "\n",
    "    def play(self):\n",
    "        print(f\"{self.owner_name}'s pet is playing.\")\n",
    "\n",
    "## Derived class\n",
    "class Dog(Animal, Pet):\n",
    "    def __init__(self, name, age, owner_name):\n",
    "        Animal.__init__(self, species=\"Dog\")\n",
    "        Pet.__init__(self, owner_name)\n",
    "        self.name = name\n",
    "        self.age = age\n",
    "\n",
    "    def bark(self):\n",
    "        print(f\"{self.name} says Woof!\")\n",
    "\n",
    "dog1 = Dog(\"Buddy\", 3, \"Alice\")\n",
    "dog1.make_sound()\n",
    "dog1.play()\n",
    "dog1.bark()\n"
   ]
  }
 ],
 "metadata": {
  "kernelspec": {
   "display_name": "Python 3",
   "language": "python",
   "name": "python3"
  },
  "language_info": {
   "codemirror_mode": {
    "name": "ipython",
    "version": 3
   },
   "file_extension": ".py",
   "mimetype": "text/x-python",
   "name": "python",
   "nbconvert_exporter": "python",
   "pygments_lexer": "ipython3",
   "version": "3.12.0"
  }
 },
 "nbformat": 4,
 "nbformat_minor": 5
}

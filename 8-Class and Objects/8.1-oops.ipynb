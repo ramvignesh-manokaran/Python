{
 "cells": [
  {
   "cell_type": "markdown",
   "id": "9a0da486",
   "metadata": {},
   "source": [
    "## Classes and Objects"
   ]
  },
  {
   "cell_type": "markdown",
   "id": "82774b26",
   "metadata": {},
   "source": [
    "Object-Oriented Programming (OOP) is a programming paradigm that uses \"objects\" to design applications and computer programs. OOP allows for modeling real-world scenarios using classes and objects. This lesson covers the basics of creating classes and objects, including instance variables and methods."
   ]
  },
  {
   "cell_type": "code",
   "execution_count": 4,
   "id": "8eb2a401",
   "metadata": {},
   "outputs": [
    {
     "name": "stdout",
     "output_type": "stream",
     "text": [
      "<class '__main__.Car'>\n",
      "<class '__main__.Car'>\n",
      "<__main__.Car object at 0x11181ec30>\n",
      "<__main__.Car object at 0x111801c70>\n"
     ]
    }
   ],
   "source": [
    "### A class is a blue print for creating objects, \n",
    "# attributes are the data members and \n",
    "# methods are the functions defined in the class.\n",
    "\n",
    "class Car:\n",
    "    pass\n",
    "\n",
    "audi=Car()\n",
    "bmw=Car()\n",
    "\n",
    "print(type(audi))\n",
    "print(type(bmw))\n",
    "print(audi)\n",
    "print(bmw)"
   ]
  },
  {
   "cell_type": "code",
   "execution_count": 6,
   "id": "f1883119",
   "metadata": {},
   "outputs": [
    {
     "name": "stdout",
     "output_type": "stream",
     "text": [
      "4\n",
      "2\n"
     ]
    }
   ],
   "source": [
    "audi.windows=4\n",
    "print(audi.windows)\n",
    "\n",
    "bmw.windows=2\n",
    "print(bmw.windows)"
   ]
  },
  {
   "cell_type": "code",
   "execution_count": 9,
   "id": "d1208590",
   "metadata": {},
   "outputs": [
    {
     "ename": "AttributeError",
     "evalue": "'Car' object has no attribute 'windows'",
     "output_type": "error",
     "traceback": [
      "\u001b[31m---------------------------------------------------------------------------\u001b[39m",
      "\u001b[31mAttributeError\u001b[39m                            Traceback (most recent call last)",
      "\u001b[36mCell\u001b[39m\u001b[36m \u001b[39m\u001b[32mIn[9]\u001b[39m\u001b[32m, line 3\u001b[39m\n\u001b[32m      1\u001b[39m tata=Car()\n\u001b[32m      2\u001b[39m tata.doors=\u001b[32m4\u001b[39m\n\u001b[32m----> \u001b[39m\u001b[32m3\u001b[39m \u001b[38;5;28mprint\u001b[39m(\u001b[43mtata\u001b[49m\u001b[43m.\u001b[49m\u001b[43mwindows\u001b[49m)\n",
      "\u001b[31mAttributeError\u001b[39m: 'Car' object has no attribute 'windows'"
     ]
    }
   ],
   "source": [
    "tata=Car()\n",
    "tata.doors=4\n",
    "print(tata.windows)"
   ]
  },
  {
   "cell_type": "markdown",
   "id": "d7034ba7",
   "metadata": {},
   "source": []
  },
  {
   "cell_type": "code",
   "execution_count": 11,
   "id": "2c4d26fe",
   "metadata": {},
   "outputs": [
    {
     "data": {
      "text/plain": [
       "['__class__',\n",
       " '__delattr__',\n",
       " '__dict__',\n",
       " '__dir__',\n",
       " '__doc__',\n",
       " '__eq__',\n",
       " '__format__',\n",
       " '__ge__',\n",
       " '__getattribute__',\n",
       " '__getstate__',\n",
       " '__gt__',\n",
       " '__hash__',\n",
       " '__init__',\n",
       " '__init_subclass__',\n",
       " '__le__',\n",
       " '__lt__',\n",
       " '__module__',\n",
       " '__ne__',\n",
       " '__new__',\n",
       " '__reduce__',\n",
       " '__reduce_ex__',\n",
       " '__repr__',\n",
       " '__setattr__',\n",
       " '__sizeof__',\n",
       " '__str__',\n",
       " '__subclasshook__',\n",
       " '__weakref__',\n",
       " 'doors']"
      ]
     },
     "execution_count": 11,
     "metadata": {},
     "output_type": "execute_result"
    }
   ],
   "source": [
    "dir(tata)"
   ]
  },
  {
   "cell_type": "code",
   "execution_count": 15,
   "id": "3f8bd03a",
   "metadata": {},
   "outputs": [
    {
     "name": "stdout",
     "output_type": "stream",
     "text": [
      "<__main__.Dog object at 0x111b66210>\n",
      "Buddy\n",
      "3\n"
     ]
    }
   ],
   "source": [
    "### Instance Variable and Methods\n",
    "\n",
    "class Dog:\n",
    "    ## constructor\n",
    "    def __init__(self, name, age):\n",
    "        self.name = name\n",
    "        self.age = age\n",
    "\n",
    "    ## instance method\n",
    "    def bark(self):\n",
    "        print(\"Woof! Woof!\")\n",
    "\n",
    "dog1 = Dog(\"Buddy\", 3)\n",
    "\n",
    "\n",
    "print(dog1)\n",
    "print(dog1.name)\n",
    "print(dog1.age)"
   ]
  },
  {
   "cell_type": "code",
   "execution_count": 16,
   "id": "9024d200",
   "metadata": {},
   "outputs": [
    {
     "name": "stdout",
     "output_type": "stream",
     "text": [
      "<__main__.Dog object at 0x111b64170>\n",
      "Max\n",
      "5\n"
     ]
    }
   ],
   "source": [
    "dog2 = Dog(\"Max\", 5)\n",
    "\n",
    "print(dog2)\n",
    "print(dog2.name)\n",
    "print(dog2.age)"
   ]
  },
  {
   "cell_type": "code",
   "execution_count": 17,
   "id": "4f926243",
   "metadata": {},
   "outputs": [
    {
     "name": "stdout",
     "output_type": "stream",
     "text": [
      "Buddy says Woof! Woof!\n",
      "Max says Woof! Woof!\n"
     ]
    }
   ],
   "source": [
    "## Define a class with instance methods\n",
    "\n",
    "class Dog:\n",
    "    ## constructor\n",
    "    def __init__(self, name, age):\n",
    "        self.name = name\n",
    "        self.age = age\n",
    "\n",
    "    ## instance method\n",
    "    def bark(self):\n",
    "        print(f\"{self.name} says Woof! Woof!\")\n",
    "\n",
    "dog1 = Dog(\"Buddy\", 3)\n",
    "dog2 = Dog(\"Max\", 5)\n",
    "dog1.bark()\n",
    "dog2.bark()\n"
   ]
  },
  {
   "cell_type": "code",
   "execution_count": 18,
   "id": "8bb57605",
   "metadata": {},
   "outputs": [
    {
     "name": "stdout",
     "output_type": "stream",
     "text": [
      "Deposited 200. New balance is 1200.\n",
      "Withdrew 100. New balance is 1100.\n",
      "Account Number: 123456789\n",
      "Account Holder: Alice\n",
      "Balance: 1100\n"
     ]
    }
   ],
   "source": [
    "### Modelling a Bank Account \n",
    "\n",
    "## Define a class for Bank Account\n",
    "class BankAccount:\n",
    "    ## constructor\n",
    "    def __init__(self, account_number, account_holder, balance=0):\n",
    "        self.account_number = account_number\n",
    "        self.account_holder = account_holder\n",
    "        self.balance = balance\n",
    "\n",
    "    ## instance method to deposit money\n",
    "    def deposit(self, amount):\n",
    "        self.balance += amount\n",
    "        print(f\"Deposited {amount}. New balance is {self.balance}.\")\n",
    "\n",
    "    ## instance method to withdraw money\n",
    "    def withdraw(self, amount):\n",
    "        if amount > self.balance:\n",
    "            print(\"Insufficient funds.\")\n",
    "        else:\n",
    "            self.balance -= amount\n",
    "            print(f\"Withdrew {amount}. New balance is {self.balance}.\")\n",
    "\n",
    "    ## instance method to display account details\n",
    "    def display_account_info(self):\n",
    "        print(f\"Account Number: {self.account_number}\")\n",
    "        print(f\"Account Holder: {self.account_holder}\")\n",
    "        print(f\"Balance: {self.balance}\")\n",
    "\n",
    "## create instances of BankAccount\n",
    "account1 = BankAccount(\"123456789\", \"Alice\", 1000)\n",
    "account2 = BankAccount(\"987654321\", \"Bob\", 500)\n",
    "\n",
    "account1.deposit(200)\n",
    "account1.withdraw(100)\n",
    "account1.display_account_info()\n"
   ]
  },
  {
   "cell_type": "markdown",
   "id": "dda9a274",
   "metadata": {},
   "source": [
    "Conclusion\n",
    "\n",
    "Object-Oriented Programming (OOP) allows you to model real-world scenarios using classes and objects. In this lesson, you learned how to create classes and objects, define instance variables and methods, and use them to perform various operations. Understanding these concepts is fundamental to writing effective and maintainable Python code."
   ]
  },
  {
   "cell_type": "markdown",
   "id": "5fde710a",
   "metadata": {},
   "source": []
  }
 ],
 "metadata": {
  "kernelspec": {
   "display_name": "Python 3",
   "language": "python",
   "name": "python3"
  },
  "language_info": {
   "codemirror_mode": {
    "name": "ipython",
    "version": 3
   },
   "file_extension": ".py",
   "mimetype": "text/x-python",
   "name": "python",
   "nbconvert_exporter": "python",
   "pygments_lexer": "ipython3",
   "version": "3.12.0"
  }
 },
 "nbformat": 4,
 "nbformat_minor": 5
}

{
 "cells": [
  {
   "cell_type": "markdown",
   "id": "ea774889",
   "metadata": {},
   "source": [
    "\n",
    "Variables\n",
    "\n",
    "Variables are fundamental elements in programming used to store data that can be referenced and manipulated in a program. In Python, variables are created when you assign a value to them, and they do not need explicit declaration to reserve memory space. The declaration happens automatically when you assign a value to a variable.\n",
    "\n",
    "Video Outline:\n",
    "\n",
    "    Introduction to Variables\n",
    "    Declaring and Assigning Variables\n",
    "    Naming Conventions\n",
    "    Understanding Variable Types\n",
    "    Type Checking and Conversion\n",
    "    Dynamic Typing\n",
    "    Practical Examples and Common Errors\n",
    "\n"
   ]
  },
  {
   "cell_type": "code",
   "execution_count": 1,
   "id": "42d4aa52",
   "metadata": {},
   "outputs": [],
   "source": [
    "a=100"
   ]
  },
  {
   "cell_type": "code",
   "execution_count": 4,
   "id": "d011f948",
   "metadata": {},
   "outputs": [
    {
     "name": "stdout",
     "output_type": "stream",
     "text": [
      "age : 32\n",
      "height : 5.9\n",
      "name : Vignesh\n",
      "is_student : True\n"
     ]
    }
   ],
   "source": [
    "## Declaring variable in Python\n",
    "age = 32\n",
    "height = 5.9\n",
    "name = \"Vignesh\"\n",
    "is_student = True\n",
    "\n",
    "## Printing the variables\n",
    "print(\"age :\", age)\n",
    "print(\"height :\", height)\n",
    "print(\"name :\", name)\n",
    "print(\"is_student :\", is_student)"
   ]
  },
  {
   "cell_type": "code",
   "execution_count": 6,
   "id": "12241f45",
   "metadata": {},
   "outputs": [],
   "source": [
    "## Naming Conventions\n",
    "## variable should be descriptive\n",
    "## They must start with a letter or underscore\n",
    "## They can contain letters, numbers, and underscores\n",
    "## They are case-sensitive\n",
    "\n",
    "## Examples of valid variable names:\n",
    "valid_variable = 10\n",
    "_valid_variable = 20\n",
    "validVariable = 30\n",
    "valid_variable_1 = 40"
   ]
  },
  {
   "cell_type": "code",
   "execution_count": 9,
   "id": "d9a5e8bb",
   "metadata": {},
   "outputs": [],
   "source": [
    "## Examples of invalid variable names:\n",
    "#1invalid_variable = 50  # Cannot start with a number\n",
    "#invalid-variable = 60  # Cannot contain hyphens\n",
    "#valid variable = 70  # Cannot contain spaces\n",
    "#@invalidVariable = 80  # Cannot start with a special character"
   ]
  },
  {
   "cell_type": "code",
   "execution_count": 10,
   "id": "886dd232",
   "metadata": {},
   "outputs": [
    {
     "name": "stdout",
     "output_type": "stream",
     "text": [
      "Variable: 100\n",
      "variable: 200\n",
      "Variable and variable are not equal.\n"
     ]
    }
   ],
   "source": [
    "#Case Sensitivity\n",
    "Variable = 100\n",
    "variable = 200\n",
    "print(\"Variable:\", Variable)  # This will print 100\n",
    "print(\"variable:\", variable)  # This will print 200 \n",
    "if Variable == variable:\n",
    "    print(\"Variable and variable are equal.\")\n",
    "else:\n",
    "    print(\"Variable and variable are not equal.\")"
   ]
  },
  {
   "cell_type": "code",
   "execution_count": 11,
   "id": "4ff80975",
   "metadata": {},
   "outputs": [
    {
     "name": "stdout",
     "output_type": "stream",
     "text": [
      "<class 'int'>\n",
      "<class 'float'>\n",
      "<class 'str'>\n",
      "<class 'bool'>\n"
     ]
    }
   ],
   "source": [
    "# Understanding variable types\n",
    "\n",
    "# In Python, variables are dynamically typed, meaning you don't need to declare their type explicitly.\n",
    "# Type of variable is determined at runtime based on the value assigned to it.\n",
    "\n",
    "age = 32  # Integer\n",
    "height = 5.9  # Float\n",
    "name = \"Vignesh\"  # String\n",
    "is_student = True  # Boolean\n",
    "print(type(age))  # <class 'int'>\n",
    "print(type(height))  # <class 'float'>\n",
    "print(type(name))  # <class 'str'>\n",
    "print(type(is_student))  # <class 'bool'>"
   ]
  },
  {
   "cell_type": "code",
   "execution_count": 12,
   "id": "6fcd6ad1",
   "metadata": {},
   "outputs": [
    {
     "data": {
      "text/plain": [
       "float"
      ]
     },
     "execution_count": 12,
     "metadata": {},
     "output_type": "execute_result"
    }
   ],
   "source": [
    "## Type Checking and conversion\n",
    "\n",
    "type(height)"
   ]
  },
  {
   "cell_type": "code",
   "execution_count": 17,
   "id": "f43e1e88",
   "metadata": {},
   "outputs": [
    {
     "name": "stdout",
     "output_type": "stream",
     "text": [
      "32\n",
      "<class 'int'>\n",
      "32\n",
      "<class 'str'>\n"
     ]
    }
   ],
   "source": [
    "age = 32\n",
    "print(age)  # 32\n",
    "print(type(age))  # <class 'int'>\n",
    "\n",
    "# Type conversion\n",
    "age_str = str(age)  # Convert integer to string\n",
    "print(age_str)  # \"32\"\n",
    "print(type(age_str))  # <class 'str'>"
   ]
  },
  {
   "cell_type": "code",
   "execution_count": 18,
   "id": "e904b7a1",
   "metadata": {},
   "outputs": [
    {
     "name": "stdout",
     "output_type": "stream",
     "text": [
      "<class 'int'>\n"
     ]
    }
   ],
   "source": [
    "age='25'\n",
    "print(type(int(age)))  # Convert string to integer"
   ]
  },
  {
   "cell_type": "code",
   "execution_count": 19,
   "id": "6b2e05bd",
   "metadata": {},
   "outputs": [
    {
     "ename": "ValueError",
     "evalue": "invalid literal for int() with base 10: 'Vignesh'",
     "output_type": "error",
     "traceback": [
      "\u001b[31m---------------------------------------------------------------------------\u001b[39m",
      "\u001b[31mValueError\u001b[39m                                Traceback (most recent call last)",
      "\u001b[36mCell\u001b[39m\u001b[36m \u001b[39m\u001b[32mIn[19]\u001b[39m\u001b[32m, line 2\u001b[39m\n\u001b[32m      1\u001b[39m name = \u001b[33m\"\u001b[39m\u001b[33mVignesh\u001b[39m\u001b[33m\"\u001b[39m\n\u001b[32m----> \u001b[39m\u001b[32m2\u001b[39m \u001b[38;5;28mprint\u001b[39m(\u001b[38;5;28mtype\u001b[39m(\u001b[38;5;28;43mint\u001b[39;49m\u001b[43m(\u001b[49m\u001b[43mname\u001b[49m\u001b[43m)\u001b[49m))  \u001b[38;5;66;03m# <class 'int'>\u001b[39;00m\n",
      "\u001b[31mValueError\u001b[39m: invalid literal for int() with base 10: 'Vignesh'"
     ]
    }
   ],
   "source": [
    "name = \"Vignesh\"\n",
    "print(type(int(name)))  # <class 'int'>"
   ]
  },
  {
   "cell_type": "code",
   "execution_count": 21,
   "id": "238e4100",
   "metadata": {},
   "outputs": [
    {
     "name": "stdout",
     "output_type": "stream",
     "text": [
      "<class 'float'>\n"
     ]
    }
   ],
   "source": [
    "height = 5.9\n",
    "print(type(height))  # <class 'float'>"
   ]
  },
  {
   "cell_type": "code",
   "execution_count": 24,
   "id": "3015fde9",
   "metadata": {},
   "outputs": [
    {
     "name": "stdout",
     "output_type": "stream",
     "text": [
      "5\n",
      "5.0\n"
     ]
    }
   ],
   "source": [
    "print(int(height))\n",
    "print(float(int(height)))  # Convert integer to float"
   ]
  },
  {
   "cell_type": "code",
   "execution_count": 27,
   "id": "23d8c85b",
   "metadata": {},
   "outputs": [
    {
     "name": "stdout",
     "output_type": "stream",
     "text": [
      "32 <class 'int'>\n",
      "Thirty Two <class 'str'>\n",
      "25.5 <class 'float'>\n"
     ]
    }
   ],
   "source": [
    "## Dyanamic Typing\n",
    "# Python allows you to change the type of a variable at runtime.\n",
    "\n",
    "age = 32  # Initially an integer\n",
    "print(age,type(age))  # <class 'int'>\n",
    "age = \"Thirty Two\"  # Now a string\n",
    "print(age, type(age))  # <class 'str'>\n",
    "age = 25.5  # Now a float\n",
    "print(age, type(age))  # <class 'float'>"
   ]
  },
  {
   "cell_type": "code",
   "execution_count": 32,
   "id": "6a9e23e8",
   "metadata": {},
   "outputs": [
    {
     "name": "stdout",
     "output_type": "stream",
     "text": [
      "32 <class 'int'>\n"
     ]
    }
   ],
   "source": [
    "## Input\n",
    "\n",
    "age = int(input(\"Enter your age: \"))\n",
    "print(age, type(age))  # This will print the age and its type"
   ]
  },
  {
   "cell_type": "code",
   "execution_count": 34,
   "id": "b405ff3f",
   "metadata": {},
   "outputs": [
    {
     "name": "stdout",
     "output_type": "stream",
     "text": [
      "The sum is: 463.0\n",
      "The difference is: 1.0\n",
      "The product is: 53592.0\n",
      "The quotient is: 1.0043290043290043\n"
     ]
    }
   ],
   "source": [
    "### Simple Calculator\n",
    "\n",
    "num1 = float(input(\"Enter first number: \"))\n",
    "num2 = float(input(\"Enter second number: \"))\n",
    "sum = num1 + num2\n",
    "difference = num1 - num2\n",
    "product = num1 * num2\n",
    "quotient = num1 / num2\n",
    "print(\"The sum is:\", sum)\n",
    "print(\"The difference is:\", difference)\n",
    "print(\"The product is:\", product)\n",
    "print(\"The quotient is:\", quotient)\n"
   ]
  }
 ],
 "metadata": {
  "kernelspec": {
   "display_name": "Python 3",
   "language": "python",
   "name": "python3"
  },
  "language_info": {
   "codemirror_mode": {
    "name": "ipython",
    "version": 3
   },
   "file_extension": ".py",
   "mimetype": "text/x-python",
   "name": "python",
   "nbconvert_exporter": "python",
   "pygments_lexer": "ipython3",
   "version": "3.12.0"
  }
 },
 "nbformat": 4,
 "nbformat_minor": 5
}

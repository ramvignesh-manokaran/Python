{
 "cells": [
  {
   "cell_type": "markdown",
   "id": "39c17d1e",
   "metadata": {},
   "source": [
    "### DataTypes ###"
   ]
  },
  {
   "cell_type": "markdown",
   "id": "6c0fb502",
   "metadata": {},
   "source": [
    "1. Definition:\n",
    "\n",
    "    Data types are a classification of data which tell the compiler or interpreter how the programmer intends to use the data.\n",
    "    They determine the type of operations that can be performed on the data, the values that the data can take, and the amount of memory needed to store the data.\n"
   ]
  },
  {
   "cell_type": "markdown",
   "id": "5686b5d2",
   "metadata": {},
   "source": [
    "2. Importance of Data Types in Programming\n",
    "\n",
    "Explanation:\n",
    "\n",
    "    Data types ensure that data is stored in an efficient way.\n",
    "    They help in performing correct operations on data.\n",
    "    Proper use of data types can prevent errors and bugs in the program.\n"
   ]
  },
  {
   "cell_type": "markdown",
   "id": "84298568",
   "metadata": {},
   "source": [
    "\n",
    "\n",
    "Video Outline:\n",
    "\n",
    "    Introduction to Data Types\n",
    "    Importance of Data Types in Programming\n",
    "    Basic Data Types\n",
    "        Integers\n",
    "        Floating-point numbers\n",
    "        Strings\n",
    "        Booleans\n",
    "    Advanced Data Types\n",
    "        Lists\n",
    "        Tuples\n",
    "        Sets\n",
    "        Dictionaries\n",
    "    Type Conversion\n",
    "    Practical Examples\n",
    "\n"
   ]
  },
  {
   "cell_type": "code",
   "execution_count": 1,
   "id": "6910572a",
   "metadata": {},
   "outputs": [
    {
     "data": {
      "text/plain": [
       "int"
      ]
     },
     "execution_count": 1,
     "metadata": {},
     "output_type": "execute_result"
    }
   ],
   "source": [
    "## Integer Example\n",
    "\n",
    "age = 35\n",
    "type(age)"
   ]
  },
  {
   "cell_type": "code",
   "execution_count": 2,
   "id": "b3cb4754",
   "metadata": {},
   "outputs": [
    {
     "name": "stdout",
     "output_type": "stream",
     "text": [
      "5.9\n",
      "<class 'float'>\n"
     ]
    }
   ],
   "source": [
    "## Floating Point Example\n",
    "height = 5.9\n",
    "type(height)\n",
    "print(height)\n",
    "print(type(height))"
   ]
  },
  {
   "cell_type": "code",
   "execution_count": 3,
   "id": "f14b6c8d",
   "metadata": {},
   "outputs": [
    {
     "name": "stdout",
     "output_type": "stream",
     "text": [
      "John Doe\n",
      "<class 'str'>\n"
     ]
    }
   ],
   "source": [
    "## String datatype example\n",
    "name = \"John Doe\"\n",
    "type(name)\n",
    "print(name)\n",
    "print(type(name))"
   ]
  },
  {
   "cell_type": "code",
   "execution_count": 5,
   "id": "8440b485",
   "metadata": {},
   "outputs": [
    {
     "name": "stdout",
     "output_type": "stream",
     "text": [
      "True\n",
      "<class 'bool'>\n"
     ]
    }
   ],
   "source": [
    "## boolean datatype example\n",
    "is_student = True\n",
    "type(is_student)\n",
    "print(is_student)\n",
    "print(type(is_student))\n"
   ]
  },
  {
   "cell_type": "code",
   "execution_count": 6,
   "id": "b7e11c06",
   "metadata": {},
   "outputs": [
    {
     "data": {
      "text/plain": [
       "bool"
      ]
     },
     "execution_count": 6,
     "metadata": {},
     "output_type": "execute_result"
    }
   ],
   "source": [
    "a=10\n",
    "b=10\n",
    "\n",
    "type(a==b)"
   ]
  },
  {
   "cell_type": "code",
   "execution_count": 7,
   "id": "0ebf1bdb",
   "metadata": {},
   "outputs": [
    {
     "ename": "TypeError",
     "evalue": "can only concatenate str (not \"int\") to str",
     "output_type": "error",
     "traceback": [
      "\u001b[31m---------------------------------------------------------------------------\u001b[39m",
      "\u001b[31mTypeError\u001b[39m                                 Traceback (most recent call last)",
      "\u001b[36mCell\u001b[39m\u001b[36m \u001b[39m\u001b[32mIn[7]\u001b[39m\u001b[32m, line 3\u001b[39m\n\u001b[32m      1\u001b[39m \u001b[38;5;66;03m## common errors\u001b[39;00m\n\u001b[32m----> \u001b[39m\u001b[32m3\u001b[39m result = \u001b[33;43m\"\u001b[39;49m\u001b[33;43mHello\u001b[39;49m\u001b[33;43m\"\u001b[39;49m\u001b[43m \u001b[49m\u001b[43m+\u001b[49m\u001b[43m \u001b[49m\u001b[32;43m5\u001b[39;49m\n",
      "\u001b[31mTypeError\u001b[39m: can only concatenate str (not \"int\") to str"
     ]
    }
   ],
   "source": [
    "## common errors\n",
    "\n",
    "result = \"Hello\" + 5"
   ]
  },
  {
   "cell_type": "code",
   "execution_count": null,
   "id": "50e34bd4",
   "metadata": {},
   "outputs": [
    {
     "name": "stdout",
     "output_type": "stream",
     "text": [
      "Hello5\n"
     ]
    }
   ],
   "source": [
    "## Typecasting to fix the error\n",
    "\n",
    "result = \"Hello\" + str(5)  # Correcting the error by converting 5 to a string\n",
    "print(result)  # This will now work correctly"
   ]
  },
  {
   "cell_type": "code",
   "execution_count": 14,
   "id": "88c93746",
   "metadata": {},
   "outputs": [
    {
     "name": "stdout",
     "output_type": "stream",
     "text": [
      "Hello\n",
      "HELLO\n"
     ]
    }
   ],
   "source": [
    "str=\"Hello\"\n",
    "capStr = str.upper()\n",
    "print(str)\n",
    "print(capStr)"
   ]
  }
 ],
 "metadata": {
  "kernelspec": {
   "display_name": "Python 3",
   "language": "python",
   "name": "python3"
  },
  "language_info": {
   "codemirror_mode": {
    "name": "ipython",
    "version": 3
   },
   "file_extension": ".py",
   "mimetype": "text/x-python",
   "name": "python",
   "nbconvert_exporter": "python",
   "pygments_lexer": "ipython3",
   "version": "3.12.0"
  }
 },
 "nbformat": 4,
 "nbformat_minor": 5
}

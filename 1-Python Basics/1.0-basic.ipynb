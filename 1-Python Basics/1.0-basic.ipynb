{
 "cells": [
  {
   "cell_type": "markdown",
   "id": "0053e2b6",
   "metadata": {},
   "source": [
    "\n",
    "### Syntax and Semantics in Python ###"
   ]
  },
  {
   "cell_type": "markdown",
   "id": "051072d8",
   "metadata": {},
   "source": [
    "Video Outline:\n",
    "\n",
    "    Single line Comments and multiline comments\n",
    "    Definition of Syntax and Semantics\n",
    "    Basic Syntax Rules in Python\n",
    "    Understanding Semantics in Python\n",
    "    Common Syntax Errors and How to Avoid Them\n",
    "    Practical Code Examples"
   ]
  },
  {
   "cell_type": "markdown",
   "id": "9d4261e8",
   "metadata": {},
   "source": [
    "Syntax refers to the set of rules that defines the combinations of symbols that are considered to be correctly structured programs in a language. In simpler terms, syntax is about the correct arrangement of words and symbols in a code.\n",
    "\n",
    "Semantics refers to the meaning or the interpretation of the symbols, characters, and commands in a language. It is about what the code is supposed to do when it runs."
   ]
  },
  {
   "cell_type": "code",
   "execution_count": 3,
   "id": "ed28577c",
   "metadata": {},
   "outputs": [
    {
     "name": "stdout",
     "output_type": "stream",
     "text": [
      "Ram\n",
      "Vignesh\n"
     ]
    }
   ],
   "source": [
    "## Basic Syntax Rules in Python\n",
    "## Case sensitivity - Python is case sensitive\n",
    "\n",
    "name=\"Ram\"\n",
    "Name=\"Vignesh\"\n",
    "\n",
    "print(name)\n",
    "print(Name)"
   ]
  },
  {
   "cell_type": "code",
   "execution_count": 5,
   "id": "b104e590",
   "metadata": {},
   "outputs": [
    {
     "name": "stdout",
     "output_type": "stream",
     "text": [
      "Hello, someone else!\n"
     ]
    }
   ],
   "source": [
    "# Indentation in Python is used to define blocks of code.\n",
    "# For example, in functions, loops, and conditional statements:\n",
    "\n",
    "if Name == \"Ram\":\n",
    "    print(\"Hello, Ram!\")  # This line is indented and part of the if block\n",
    "else:\n",
    "    print(\"Hello, someone else!\")  # This line is indented and part of the else block"
   ]
  },
  {
   "cell_type": "code",
   "execution_count": 6,
   "id": "c1b36bca",
   "metadata": {},
   "outputs": [
    {
     "name": "stdout",
     "output_type": "stream",
     "text": [
      "You are an adult.\n",
      "25\n"
     ]
    }
   ],
   "source": [
    "age = 25\n",
    "if age >= 18:\n",
    "    print(\"You are an adult.\")\n",
    "else:\n",
    "    print(\"You are a minor.\")\n",
    "print(age)"
   ]
  },
  {
   "cell_type": "code",
   "execution_count": 7,
   "id": "e4704ad8",
   "metadata": {},
   "outputs": [
    {
     "name": "stdout",
     "output_type": "stream",
     "text": [
      "Hello, World!\n"
     ]
    }
   ],
   "source": [
    "## This is single line comment\n",
    "print (\"Hello, World!\")  # This is an inline comment\n"
   ]
  },
  {
   "cell_type": "code",
   "execution_count": 8,
   "id": "20295097",
   "metadata": {},
   "outputs": [
    {
     "name": "stdout",
     "output_type": "stream",
     "text": [
      "55\n"
     ]
    }
   ],
   "source": [
    "## Line Continuation\n",
    "\n",
    "total = 1 + 2 + 3 + 4 + \\\n",
    "        5 + 6 + 7 + 8 + \\\n",
    "        9 + 10\n",
    "print(total)"
   ]
  },
  {
   "cell_type": "code",
   "execution_count": 10,
   "id": "7189618f",
   "metadata": {},
   "outputs": [
    {
     "name": "stdout",
     "output_type": "stream",
     "text": [
      "1 2 3\n"
     ]
    }
   ],
   "source": [
    "## Multiple Statements on a single line\n",
    "x = 1; y = 2; z = x+y\n",
    "print(x, y, z)"
   ]
  },
  {
   "cell_type": "code",
   "execution_count": 18,
   "id": "30ffd487",
   "metadata": {},
   "outputs": [
    {
     "data": {
      "text/plain": [
       "str"
      ]
     },
     "execution_count": 18,
     "metadata": {},
     "output_type": "execute_result"
    }
   ],
   "source": [
    "## Understand semantics In Python\n",
    "# variable assignment\n",
    "age = 32 ## age is an Integer\n",
    "name = \"Vignesh\" ## name is a String\n",
    "type(name)"
   ]
  },
  {
   "cell_type": "code",
   "execution_count": 17,
   "id": "3a795b56",
   "metadata": {},
   "outputs": [
    {
     "name": "stdout",
     "output_type": "stream",
     "text": [
      "<class 'int'>\n",
      "<class 'str'>\n"
     ]
    }
   ],
   "source": [
    "## Type Inference\n",
    "\n",
    "variable = 10\n",
    "print(type(variable))  # This will print <class 'int'>\n",
    "variable = \"Hello\"\n",
    "print(type(variable))  # This will print <class 'str'>\n"
   ]
  },
  {
   "cell_type": "code",
   "execution_count": 23,
   "id": "41164f68",
   "metadata": {},
   "outputs": [
    {
     "ename": "IndentationError",
     "evalue": "expected an indented block after 'if' statement on line 3 (154873823.py, line 4)",
     "output_type": "error",
     "traceback": [
      "  \u001b[36mCell\u001b[39m\u001b[36m \u001b[39m\u001b[32mIn[23]\u001b[39m\u001b[32m, line 4\u001b[39m\n\u001b[31m    \u001b[39m\u001b[31mprint(age)\u001b[39m\n    ^\n\u001b[31mIndentationError\u001b[39m\u001b[31m:\u001b[39m expected an indented block after 'if' statement on line 3\n"
     ]
    }
   ],
   "source": [
    "## Indentation Error\n",
    "age = 32\n",
    "if age > 18:\n",
    "print(age)"
   ]
  },
  {
   "cell_type": "code",
   "execution_count": 22,
   "id": "8d366261",
   "metadata": {},
   "outputs": [
    {
     "ename": "NameError",
     "evalue": "name 'b' is not defined",
     "output_type": "error",
     "traceback": [
      "\u001b[31m---------------------------------------------------------------------------\u001b[39m",
      "\u001b[31mNameError\u001b[39m                                 Traceback (most recent call last)",
      "\u001b[36mCell\u001b[39m\u001b[36m \u001b[39m\u001b[32mIn[22]\u001b[39m\u001b[32m, line 2\u001b[39m\n\u001b[32m      1\u001b[39m \u001b[38;5;66;03m## Name Error\u001b[39;00m\n\u001b[32m----> \u001b[39m\u001b[32m2\u001b[39m a=\u001b[43mb\u001b[49m\n",
      "\u001b[31mNameError\u001b[39m: name 'b' is not defined"
     ]
    }
   ],
   "source": [
    "## Name Error\n",
    "a=b"
   ]
  },
  {
   "cell_type": "code",
   "execution_count": 26,
   "id": "7685e2df",
   "metadata": {},
   "outputs": [
    {
     "name": "stdout",
     "output_type": "stream",
     "text": [
      "This is indented correctly.\n",
      "This is also indented correctly.\n",
      "This is outside the if block.\n"
     ]
    }
   ],
   "source": [
    "## Code examples of Indentation Error and Name Error\n",
    "if True:\n",
    "    print(\"This is indented correctly.\")\n",
    "    if False:\n",
    "        print(\"This will not execute.\")\n",
    "    print(\"This is also indented correctly.\")\n",
    "print(\"This is outside the if block.\")"
   ]
  }
 ],
 "metadata": {
  "kernelspec": {
   "display_name": "Python 3",
   "language": "python",
   "name": "python3"
  },
  "language_info": {
   "codemirror_mode": {
    "name": "ipython",
    "version": 3
   },
   "file_extension": ".py",
   "mimetype": "text/x-python",
   "name": "python",
   "nbconvert_exporter": "python",
   "pygments_lexer": "ipython3",
   "version": "3.12.0"
  }
 },
 "nbformat": 4,
 "nbformat_minor": 5
}

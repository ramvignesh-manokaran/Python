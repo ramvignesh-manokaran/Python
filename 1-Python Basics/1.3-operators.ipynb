{
 "cells": [
  {
   "cell_type": "markdown",
   "id": "ec3ed86e",
   "metadata": {},
   "source": [
    "### Deep Dive into Operators"
   ]
  },
  {
   "cell_type": "markdown",
   "id": "9aa8f6f9",
   "metadata": {},
   "source": [
    "\n",
    "Video Outline:\n",
    "\n",
    "    Introduction to Operators\n",
    "    Arithmetic Operators\n",
    "        Addition\n",
    "        Subtraction\n",
    "        Multiplication\n",
    "        Division\n",
    "        Floor Division\n",
    "        Modulus\n",
    "        Exponentiation\n",
    "    Comparison Operators\n",
    "        Equal to\n",
    "        Not equal to\n",
    "        Greater than\n",
    "        Less than\n",
    "        Greater than or equal to\n",
    "        Less than or equal to\n",
    "    Logical Operators\n",
    "        AND\n",
    "        OR\n",
    "        NOT\n",
    "    Practical Examples and Common Errors\n",
    "\n"
   ]
  },
  {
   "cell_type": "code",
   "execution_count": 1,
   "id": "8ec0b9ee",
   "metadata": {},
   "outputs": [
    {
     "name": "stdout",
     "output_type": "stream",
     "text": [
      "Addition: 15\n",
      "Subtraction: 5\n",
      "Multiplication: 50\n",
      "Division: 2.0\n",
      "Modulus: 0\n",
      "Exponentiation: 100000\n",
      "Floor Division: 2\n"
     ]
    }
   ],
   "source": [
    "## Arithmetic Operations\n",
    "\n",
    "a = 10\n",
    "b = 5\n",
    "\n",
    "result_add = a + b\n",
    "result_subtract = a - b\n",
    "result_multiply = a * b\n",
    "result_divide = a / b\n",
    "result_modulus = a % b\n",
    "result_exponent = a ** b\n",
    "result_floor_divide = a // b\n",
    "\n",
    "print(\"Addition:\", result_add)\n",
    "print(\"Subtraction:\", result_subtract)\n",
    "print(\"Multiplication:\", result_multiply)\n",
    "print(\"Division:\", result_divide)\n",
    "print(\"Modulus:\", result_modulus)\n",
    "print(\"Exponentiation:\", result_exponent)\n",
    "print(\"Floor Division:\", result_floor_divide)"
   ]
  },
  {
   "cell_type": "code",
   "execution_count": 2,
   "id": "c01772a7",
   "metadata": {},
   "outputs": [
    {
     "data": {
      "text/plain": [
       "2.0"
      ]
     },
     "execution_count": 2,
     "metadata": {},
     "output_type": "execute_result"
    }
   ],
   "source": [
    "10/5"
   ]
  },
  {
   "cell_type": "code",
   "execution_count": null,
   "id": "2b885fbc",
   "metadata": {},
   "outputs": [
    {
     "data": {
      "text/plain": [
       "4.2"
      ]
     },
     "execution_count": 3,
     "metadata": {},
     "output_type": "execute_result"
    }
   ],
   "source": [
    "21/5"
   ]
  },
  {
   "cell_type": "code",
   "execution_count": 4,
   "id": "cec0297b",
   "metadata": {},
   "outputs": [
    {
     "data": {
      "text/plain": [
       "4"
      ]
     },
     "execution_count": 4,
     "metadata": {},
     "output_type": "execute_result"
    }
   ],
   "source": [
    "21//5"
   ]
  },
  {
   "cell_type": "markdown",
   "id": "305bcb87",
   "metadata": {},
   "source": [
    "#### Comparison Operators"
   ]
  },
  {
   "cell_type": "code",
   "execution_count": 16,
   "id": "75329e17",
   "metadata": {},
   "outputs": [
    {
     "data": {
      "text/plain": [
       "True"
      ]
     },
     "execution_count": 16,
     "metadata": {},
     "output_type": "execute_result"
    }
   ],
   "source": [
    "#### Comparison Operators\n",
    "## ===\n",
    "\n",
    "a = 10\n",
    "b = 10\n",
    "\n",
    "a==b"
   ]
  },
  {
   "cell_type": "code",
   "execution_count": 10,
   "id": "d7c77d30",
   "metadata": {},
   "outputs": [
    {
     "data": {
      "text/plain": [
       "True"
      ]
     },
     "execution_count": 10,
     "metadata": {},
     "output_type": "execute_result"
    }
   ],
   "source": [
    "str1 = \"Hello\"\n",
    "str2 = \"Hello\"\n",
    "\n",
    "str1 == str2"
   ]
  },
  {
   "cell_type": "code",
   "execution_count": 11,
   "id": "3eddfce6",
   "metadata": {},
   "outputs": [
    {
     "data": {
      "text/plain": [
       "False"
      ]
     },
     "execution_count": 11,
     "metadata": {},
     "output_type": "execute_result"
    }
   ],
   "source": [
    "## !=\n",
    "\n",
    "str1 != str2"
   ]
  },
  {
   "cell_type": "code",
   "execution_count": 12,
   "id": "1a36d0c7",
   "metadata": {},
   "outputs": [
    {
     "data": {
      "text/plain": [
       "False"
      ]
     },
     "execution_count": 12,
     "metadata": {},
     "output_type": "execute_result"
    }
   ],
   "source": [
    "str3 = \"World\"\n",
    "str4 = \"World\"\n",
    "\n",
    "str3 != str4"
   ]
  },
  {
   "cell_type": "code",
   "execution_count": 14,
   "id": "88f14bf6",
   "metadata": {},
   "outputs": [
    {
     "name": "stdout",
     "output_type": "stream",
     "text": [
      "True\n",
      "False\n",
      "True\n",
      "False\n"
     ]
    }
   ],
   "source": [
    "## >, <, >=, <=\n",
    "\n",
    "a = 10\n",
    "b = 5\n",
    "\n",
    "print(a > b)\n",
    "print(a < b)\n",
    "print(a >= b)\n",
    "print(a <= b)"
   ]
  },
  {
   "cell_type": "markdown",
   "id": "480841e0",
   "metadata": {},
   "source": [
    "#### Logical Operators"
   ]
  },
  {
   "cell_type": "code",
   "execution_count": 18,
   "id": "3b12d711",
   "metadata": {},
   "outputs": [
    {
     "name": "stdout",
     "output_type": "stream",
     "text": [
      "False\n",
      "True\n",
      "False\n",
      "True\n"
     ]
    }
   ],
   "source": [
    "## And, Or, Not Operators\n",
    "\n",
    "a = True\n",
    "b = False\n",
    "\n",
    "print(a and b)\n",
    "print(a or b)\n",
    "print(not a)\n",
    "print(not b)"
   ]
  },
  {
   "cell_type": "code",
   "execution_count": 22,
   "id": "f8b74e46",
   "metadata": {},
   "outputs": [
    {
     "name": "stdout",
     "output_type": "stream",
     "text": [
      "Result: 15.0\n"
     ]
    }
   ],
   "source": [
    "## Simple Calculator\n",
    "\n",
    "num1 = float(input(\"Enter first number: \"))\n",
    "num2 = float(input(\"Enter second number: \"))\n",
    "\n",
    "operation = input(\"Enter operation (+, -, *, /, //): \")\n",
    "\n",
    "if operation == '+':\n",
    "    result = num1 + num2\n",
    "    print(\"Result:\", result)\n",
    "elif operation == '-':\n",
    "\n",
    "    result = num1 - num2\n",
    "    print(\"Result:\", result)\n",
    "elif operation == '*':\n",
    "    result = num1 * num2\n",
    "    print(\"Result:\", result)\n",
    "elif operation == '/':\n",
    "    if num2 != 0:\n",
    "        result = num1 / num2\n",
    "        print(\"Result:\", result)\n",
    "    else:\n",
    "        print(\"Error: Division by zero is not allowed.\")\n",
    "elif operation == '//':\n",
    "    if num2 != 0:\n",
    "        result = num1 // num2\n",
    "        print(\"Result:\", result)\n",
    "    else:\n",
    "        print(\"Error: Division by zero is not allowed.\")\n",
    "else:\n",
    "    print(\"Error: Invalid operation. Please enter +, -, *, or /.\")\n",
    "\n"
   ]
  },
  {
   "cell_type": "code",
   "execution_count": 23,
   "id": "6e1ebfa5",
   "metadata": {},
   "outputs": [
    {
     "name": "stdout",
     "output_type": "stream",
     "text": [
      "i: 0, j: 0\n",
      "i: 0, j: 1\n",
      "i: 0, j: 2\n",
      "i: 1, j: 0\n",
      "i: 1, j: 1\n",
      "i: 1, j: 2\n",
      "i: 2, j: 0\n",
      "i: 2, j: 1\n",
      "i: 2, j: 2\n",
      "i: 3, j: 0\n",
      "i: 3, j: 1\n",
      "i: 3, j: 2\n",
      "i: 4, j: 0\n",
      "i: 4, j: 1\n",
      "i: 4, j: 2\n"
     ]
    }
   ],
   "source": [
    "## Nested loops\n",
    "for i in range(5):\n",
    "    for j in range(3):\n",
    "        print(f\"i: {i}, j: {j}\")"
   ]
  },
  {
   "cell_type": "code",
   "execution_count": 24,
   "id": "a95b17a7",
   "metadata": {},
   "outputs": [
    {
     "name": "stdout",
     "output_type": "stream",
     "text": [
      "Sum of first 23 natural numbers (while loop): 276\n"
     ]
    }
   ],
   "source": [
    "## Examples - Calculate the sum of N natural numbers using a while and for loop\n",
    "n = int(input(\"Enter a natural number: \"))\n",
    "\n",
    "# Using while loop\n",
    "sum_while = 0\n",
    "i = 1\n",
    "while i <= n:\n",
    "    sum_while += i\n",
    "    i += 1\n",
    "print(f\"Sum of first {n} natural numbers (while loop): {sum_while}\")\n",
    "\n",
    "\n"
   ]
  },
  {
   "cell_type": "code",
   "execution_count": 26,
   "id": "973afac7",
   "metadata": {},
   "outputs": [
    {
     "name": "stdout",
     "output_type": "stream",
     "text": [
      "Sum of first 23 natural numbers (for loop): 276\n"
     ]
    }
   ],
   "source": [
    "# Using for loop\n",
    "sum_for = 0\n",
    "for i in range(1, n + 1):\n",
    "    sum_for += i\n",
    "print(f\"Sum of first {n} natural numbers (for loop): {sum_for}\")"
   ]
  },
  {
   "cell_type": "code",
   "execution_count": null,
   "id": "bd779d5a",
   "metadata": {},
   "outputs": [
    {
     "name": "stdout",
     "output_type": "stream",
     "text": [
      "Prime numbers between 1 and 100:\n",
      "2 3 5 7 11 13 17 19 23 29 31 37 41 43 47 53 59 61 67 71 73 79 83 89 97 \n"
     ]
    }
   ],
   "source": [
    "# Example - Prime numbers between 1 and 100\n",
    "n = 100\n",
    "print(\"Prime numbers between 1 and 100:\")\n",
    "for num in range(2, n + 1):\n",
    "    is_prime = True\n",
    "    for i in range(2, int(num**0.5) + 1):\n",
    "        if num % i == 0:\n",
    "            is_prime = False\n",
    "            break\n",
    "    if is_prime:\n",
    "        print(num, end=' ')\n",
    "print()  # New line after printing all prime numbers\n",
    "# Example - Factorial of a number using a for loop"
   ]
  },
  {
   "cell_type": "markdown",
   "id": "7cf36f8b",
   "metadata": {},
   "source": [
    "### Conclusion\n"
   ]
  },
  {
   "cell_type": "markdown",
   "id": "0f239ff8",
   "metadata": {},
   "source": [
    "Loops are powerful"
   ]
  }
 ],
 "metadata": {
  "kernelspec": {
   "display_name": "Python 3",
   "language": "python",
   "name": "python3"
  },
  "language_info": {
   "codemirror_mode": {
    "name": "ipython",
    "version": 3
   },
   "file_extension": ".py",
   "mimetype": "text/x-python",
   "name": "python",
   "nbconvert_exporter": "python",
   "pygments_lexer": "ipython3",
   "version": "3.12.0"
  }
 },
 "nbformat": 4,
 "nbformat_minor": 5
}

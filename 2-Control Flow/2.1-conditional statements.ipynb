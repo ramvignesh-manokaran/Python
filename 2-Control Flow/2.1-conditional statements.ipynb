{
 "cells": [
  {
   "cell_type": "markdown",
   "id": "c262b186",
   "metadata": {},
   "source": [
    "### Conditional Statements (if, elif, else)\n"
   ]
  },
  {
   "cell_type": "markdown",
   "id": "bd43b0b0",
   "metadata": {},
   "source": [
    "ideo Outline:\n",
    "\n",
    "    Introduction to Conditional Statements\n",
    "    if Statement\n",
    "    else Statement\n",
    "    elif Statement\n",
    "    Nested Conditional Statements\n",
    "    Practical Examples\n",
    "    Common Errors and Best Practices\n"
   ]
  },
  {
   "cell_type": "code",
   "execution_count": 1,
   "id": "3bb670a9",
   "metadata": {},
   "outputs": [
    {
     "name": "stdout",
     "output_type": "stream",
     "text": [
      "You are an adult.\n"
     ]
    }
   ],
   "source": [
    "## if statement\n",
    "age = 20\n",
    "if age >= 18:\n",
    "    print(\"You are an adult.\")\n",
    "else:\n",
    "    print(\"You are not an adult.\")"
   ]
  },
  {
   "cell_type": "code",
   "execution_count": 2,
   "id": "7871dbbc",
   "metadata": {},
   "outputs": [
    {
     "name": "stdout",
     "output_type": "stream",
     "text": [
      "You are not an adult.\n"
     ]
    }
   ],
   "source": [
    "## else statement\n",
    "age = 16\n",
    "if age >= 18:\n",
    "    print(\"You are an adult.\")\n",
    "else:\n",
    "    print(\"You are not an adult.\")"
   ]
  },
  {
   "cell_type": "code",
   "execution_count": 3,
   "id": "82cac845",
   "metadata": {},
   "outputs": [
    {
     "name": "stdout",
     "output_type": "stream",
     "text": [
      "You are an adult.\n",
      "You are an adult.\n",
      "You are adult.\n",
      "You are an adult.\n"
     ]
    }
   ],
   "source": [
    "## elif statement\n",
    "age = 20\n",
    "if age < 13:\n",
    "    print(\"You are a child.\")\n",
    "elif age < 20:\n",
    "    print(\"You are a teenager.\")\n",
    "else:\n",
    "    print(\"You are an adult.\")  \n",
    "## Nested if statement\n",
    "age = 20\n",
    "if age >= 18:\n",
    "    print(\"You are an adult.\")\n",
    "    if age >= 65:\n",
    "        print(\"You are a senior citizen.\")\n",
    "else:\n",
    "    print(\"You are not an adult.\")\n",
    "    if age < 13:\n",
    "        print(\"You are a child.\")\n",
    "    else:\n",
    "        print(\"You are a teenager.\")\n",
    "## Ternary operator\n",
    "age = 20\n",
    "status = \"adult\" if age >= 18 else \"not an adult\"\n",
    "print(f\"You are {status}.\")\n",
    "## Multiple conditions\n",
    "age = 20\n",
    "if age < 13:\n",
    "    print(\"You are a child.\")\n",
    "elif age < 20:\n",
    "\n",
    "    print(\"You are a teenager.\")\n",
    "elif age < 65:\n",
    "    print(\"You are an adult.\")\n",
    "else:\n",
    "    print(\"You are a senior citizen.\")\n",
    "\n",
    "    "
   ]
  },
  {
   "cell_type": "code",
   "execution_count": 5,
   "id": "079c4773",
   "metadata": {},
   "outputs": [
    {
     "name": "stdout",
     "output_type": "stream",
     "text": [
      "2000 is a leap year\n"
     ]
    }
   ],
   "source": [
    "## Practical Examples\n",
    "\n",
    "## Determine if a year is a leap year\n",
    "\n",
    "year = int(input(\"Enter a year: \"))\n",
    "if year%4==0 and (year%100!=0 or year%400==0):\n",
    "    print(year, \"is a leap year\")\n",
    "else:\n",
    "    print(year, \"is not a leap year\")\n"
   ]
  },
  {
   "cell_type": "code",
   "execution_count": 6,
   "id": "42ea5855",
   "metadata": {},
   "outputs": [],
   "source": [
    "## Assignment\n",
    "## Simple Calculator\n",
    "def calculator():\n",
    "    print(\"Simple Calculator\")\n",
    "    print(\"1. Addition\")\n",
    "    print(\"2. Subtraction\")\n",
    "    print(\"3. Multiplication\")\n",
    "    print(\"4. Division\")\n",
    "    \n",
    "    choice = input(\"Enter your choice (1-4): \")\n",
    "\n",
    "    if choice == \"1\":\n",
    "        num1 = float(input(\"Enter first number: \"))\n",
    "        num2 = float(input(\"Enter second number: \"))\n",
    "        print(\"Result:\", num1 + num2)\n",
    "    elif choice == \"2\":\n",
    "        num1 = float(input(\"Enter first number: \"))\n",
    "        num2 = float(input(\"Enter second number: \"))\n",
    "        print(\"Result:\", num1 - num2)\n",
    "    elif choice == \"3\":\n",
    "        num1 = float(input(\"Enter first number: \"))\n",
    "        num2 = float(input(\"Enter second number: \"))\n",
    "        print(\"Result:\", num1 * num2)\n",
    "    elif choice == \"4\":\n",
    "        num1 = float(input(\"Enter first number: \"))\n",
    "        num2 = float(input(\"Enter second number: \"))\n",
    "        if num2 != 0:\n",
    "            print(\"Result:\", num1 / num2)\n",
    "        else:\n",
    "            print(\"Error: Division by zero is not allowed.\")\n",
    "    else:\n",
    "        print(\"Invalid choice. Please select a valid option.\")\n"
   ]
  },
  {
   "cell_type": "code",
   "execution_count": 8,
   "id": "247093ce",
   "metadata": {},
   "outputs": [
    {
     "name": "stdout",
     "output_type": "stream",
     "text": [
      "Simple Calculator\n",
      "1. Addition\n",
      "2. Subtraction\n",
      "3. Multiplication\n",
      "4. Division\n",
      "Error: Division by zero is not allowed.\n"
     ]
    }
   ],
   "source": [
    "calculator()"
   ]
  },
  {
   "cell_type": "code",
   "execution_count": 9,
   "id": "64225a2e",
   "metadata": {},
   "outputs": [
    {
     "name": "stdout",
     "output_type": "stream",
     "text": [
      "Ticket price: $10\n"
     ]
    }
   ],
   "source": [
    "### Determine the ticker price based on age\n",
    "def ticket_price():\n",
    "    age = int(input(\"Enter your age: \"))\n",
    "    if age < 13:\n",
    "        print(\"Ticket price: $5\")\n",
    "    elif age < 60:\n",
    "        print(\"Ticket price: $10\")\n",
    "    else:\n",
    "        print(\"Ticket price: $7\")\n",
    "ticket_price()"
   ]
  }
 ],
 "metadata": {
  "kernelspec": {
   "display_name": "Python 3",
   "language": "python",
   "name": "python3"
  },
  "language_info": {
   "codemirror_mode": {
    "name": "ipython",
    "version": 3
   },
   "file_extension": ".py",
   "mimetype": "text/x-python",
   "name": "python",
   "nbconvert_exporter": "python",
   "pygments_lexer": "ipython3",
   "version": "3.12.0"
  }
 },
 "nbformat": 4,
 "nbformat_minor": 5
}

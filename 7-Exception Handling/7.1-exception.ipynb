{
 "cells": [
  {
   "cell_type": "markdown",
   "id": "8f97abd0",
   "metadata": {},
   "source": [
    "### Understanding Exceptions"
   ]
  },
  {
   "cell_type": "markdown",
   "id": "d002150d",
   "metadata": {},
   "source": [
    "Exception handling in Python allows you to handle errors gracefully and take corrective actions without stopping the execution of the program. This lesson will cover the basics of exceptions, including how to use try, except, else, and finally blocks."
   ]
  },
  {
   "cell_type": "markdown",
   "id": "9920d2eb",
   "metadata": {},
   "source": [
    "\n",
    "What Are Exceptions?\n",
    "\n",
    "Exceptions are events that disrupt the normal flow of a program. They occur when an error is encountered during program execution. Common exceptions include:\n",
    "\n",
    "    ZeroDivisionError: Dividing by zero.\n",
    "    FileNotFoundError: File not found.\n",
    "    ValueError: Invalid value.\n",
    "    TypeError: Invalid type.\n",
    "\n"
   ]
  },
  {
   "cell_type": "code",
   "execution_count": 1,
   "id": "a81999bf",
   "metadata": {},
   "outputs": [
    {
     "ename": "NameError",
     "evalue": "name 'b' is not defined",
     "output_type": "error",
     "traceback": [
      "\u001b[31m---------------------------------------------------------------------------\u001b[39m",
      "\u001b[31mNameError\u001b[39m                                 Traceback (most recent call last)",
      "\u001b[36mCell\u001b[39m\u001b[36m \u001b[39m\u001b[32mIn[1]\u001b[39m\u001b[32m, line 1\u001b[39m\n\u001b[32m----> \u001b[39m\u001b[32m1\u001b[39m a=\u001b[43mb\u001b[49m\n",
      "\u001b[31mNameError\u001b[39m: name 'b' is not defined"
     ]
    }
   ],
   "source": [
    "a=b\n"
   ]
  },
  {
   "cell_type": "code",
   "execution_count": 7,
   "id": "fa6d0506",
   "metadata": {},
   "outputs": [
    {
     "name": "stdout",
     "output_type": "stream",
     "text": [
      "NameError: name 'b' is not defined\n",
      "Please ensure that all variables are defined before use.\n"
     ]
    }
   ],
   "source": [
    "## Exception try, except block\n",
    "try:\n",
    "    a = b\n",
    "except NameError as e: ## Catching NameError if 'b' is not defined\n",
    "    ## This will execute if 'b' is not defined\n",
    "    print(f\"NameError: {e}\")\n",
    "    print(\"Please ensure that all variables are defined before use.\")\n",
    "except Exception as e: ## Catching any other exceptions\n",
    "    ## This will execute for any other type of exception\n",
    "    ## This is a general exception handler\n",
    "    ## It is not recommended to use a general exception handler like this in production code\n",
    "    ## It is better to catch specific exceptions\n",
    "    ## This is just for demonstration purposes\n",
    "    ## It is a good practice to log the exception message\n",
    "    ## and take appropriate action based on the type of exception\n",
    "    ## For example, if the exception is a FileNotFoundError, you can log the error and prompt the user to check the file path\n",
    "    ## If the exception is a ValueError, you can log the error and prompt the user to check the input value\n",
    "    ## If the exception is a TypeError, you can log the error and prompt the user to check the data types\n",
    "    ## If the exception is a KeyError, you can log the error and prompt the user to check the dictionary keys\n",
    "    ## If the exception is an IndexError, you can log the error and prompt the user to check the list indices\n",
    "    ## If the exception is a ZeroDivisionError, you can log the error and prompt the user to check the denominator\n",
    "    ## If the exception is a PermissionError, you can log the error and prompt the user to check the file permissions\n",
    "    ## If the exception is a TimeoutError, you can log the error and prompt the user to check the network connection\n",
    "    ## If the exception is a ConnectionError, you can log the error and prompt the user to check the network connection\n",
    "    ## If the exception is a RuntimeError, you can log the error and prompt the user to check the code logic\n",
    "    ## If the exception is a MemoryError, you can log the error and prompt the user to check the memory usage\n",
    "    ## If the exception is an ImportError, you can log the error and prompt the user to check the module imports\n",
    "    ## If the exception is a SyntaxError, you can log the error and prompt the user to check the code syntax\n",
    "    ## If the exception is an IndentationError, you can log the error and prompt the user to check the code indentation\n",
    "    print(f\"An error occurred: {e}\")\n"
   ]
  },
  {
   "cell_type": "code",
   "execution_count": 3,
   "id": "27a29c9e",
   "metadata": {},
   "outputs": [
    {
     "ename": "ZeroDivisionError",
     "evalue": "division by zero",
     "output_type": "error",
     "traceback": [
      "\u001b[31m---------------------------------------------------------------------------\u001b[39m",
      "\u001b[31mZeroDivisionError\u001b[39m                         Traceback (most recent call last)",
      "\u001b[36mCell\u001b[39m\u001b[36m \u001b[39m\u001b[32mIn[3]\u001b[39m\u001b[32m, line 1\u001b[39m\n\u001b[32m----> \u001b[39m\u001b[32m1\u001b[39m result = \u001b[32;43m1\u001b[39;49m\u001b[43m \u001b[49m\u001b[43m/\u001b[49m\u001b[43m \u001b[49m\u001b[32;43m0\u001b[39;49m\n",
      "\u001b[31mZeroDivisionError\u001b[39m: division by zero"
     ]
    }
   ],
   "source": [
    "result = 1 / 0"
   ]
  },
  {
   "cell_type": "code",
   "execution_count": 5,
   "id": "c96fd038",
   "metadata": {},
   "outputs": [
    {
     "name": "stdout",
     "output_type": "stream",
     "text": [
      "ZeroDivisionError: division by zero\n",
      "please enter the denominator greater than 0 \n"
     ]
    }
   ],
   "source": [
    "try:\n",
    "    result = 1 / 0\n",
    "except ZeroDivisionError as e:\n",
    "    print(f\"ZeroDivisionError: {e}\")\n",
    "    print (\"please enter the denominator greater than 0 \")\n",
    "except Exception as e:\n",
    "    print(f\"An error occurred: {e}\")    "
   ]
  },
  {
   "cell_type": "code",
   "execution_count": 10,
   "id": "8e673048",
   "metadata": {},
   "outputs": [
    {
     "name": "stdout",
     "output_type": "stream",
     "text": [
      "ValueError: invalid literal for int() with base 10: 'a'\n",
      "Please enter a valid integer.\n"
     ]
    }
   ],
   "source": [
    "try:\n",
    "    num = int(input(\"Enter a number: \"))\n",
    "    result = 100 / num\n",
    "    print(f\"Result: {result}\")\n",
    "except ValueError as e:\n",
    "    print(f\"ValueError: {e}\")\n",
    "    print(\"Please enter a valid integer.\")\n",
    "except ZeroDivisionError as e:\n",
    "    print(f\"ZeroDivisionError: {e}\")\n",
    "    print(\"Denominator cannot be zero. Please enter a non-zero integer.\")\n",
    "except Exception as e:\n",
    "    print(f\"An unexpected error occurred: {e}\")\n",
    "    print(\"Please try again.\")"
   ]
  },
  {
   "cell_type": "code",
   "execution_count": null,
   "id": "192bbe8e",
   "metadata": {},
   "outputs": [
    {
     "name": "stdout",
     "output_type": "stream",
     "text": [
      "ValueError: invalid literal for int() with base 10: 'aa'\n",
      "Please enter a valid integer.\n",
      "Execution completed. Thank you for using the program.\n"
     ]
    }
   ],
   "source": [
    "## try,except with else and finally\n",
    "try:\n",
    "    num = int(input(\"Enter a number: \"))\n",
    "    result = 100 / num\n",
    "except ValueError as e:\n",
    "    print(f\"ValueError: {e}\")\n",
    "    print(\"Please enter a valid integer.\")\n",
    "except ZeroDivisionError as e:\n",
    "    print(f\"ZeroDivisionError: {e}\")\n",
    "    print(\"Denominator cannot be zero. Please enter a non-zero integer.\")\n",
    "except Exception as e:\n",
    "    print(f\"An unexpected error occurred: {e}\")\n",
    "    print(\"Please try again.\")\n",
    "else: ## This block executes if no exceptions were raised\n",
    "    print(f\"Result: {result}\")\n",
    "finally: ## This block always executes, regardless of whether an exception was raised or not\n",
    "    print(\"Execution completed. Thank you for using the program.\")"
   ]
  },
  {
   "cell_type": "code",
   "execution_count": 18,
   "id": "5cdb7035",
   "metadata": {},
   "outputs": [
    {
     "name": "stdout",
     "output_type": "stream",
     "text": [
      "An unexpected error occurred: name 'b' is not defined\n",
      "Please try again.\n",
      "File closed successfully.\n"
     ]
    }
   ],
   "source": [
    "## File handling and exception handling\n",
    "try:\n",
    "    file = open('file.txt', 'r')\n",
    "    content = file.read()\n",
    "    a = b\n",
    "    print(content)\n",
    "except FileNotFoundError as e:\n",
    "    print(f\"FileNotFoundError: {e}\")\n",
    "    print(\"The file does not exist. Please check the file path.\")\n",
    "except IOError as e:\n",
    "    print(f\"IOError: {e}\")\n",
    "    print(\"An error occurred while reading the file. Please try again.\")  \n",
    "except Exception as e:\n",
    "    print(f\"An unexpected error occurred: {e}\")\n",
    "    print(\"Please try again.\")\n",
    "finally:\n",
    "    if 'file' in locals() and not file.closed: ## Check if file is open\n",
    "        file.close()\n",
    "        print(\"File closed successfully.\")        \n"
   ]
  },
  {
   "cell_type": "code",
   "execution_count": null,
   "id": "f3d3e5f7",
   "metadata": {},
   "outputs": [],
   "source": []
  }
 ],
 "metadata": {
  "kernelspec": {
   "display_name": "Python 3",
   "language": "python",
   "name": "python3"
  },
  "language_info": {
   "codemirror_mode": {
    "name": "ipython",
    "version": 3
   },
   "file_extension": ".py",
   "mimetype": "text/x-python",
   "name": "python",
   "nbconvert_exporter": "python",
   "pygments_lexer": "ipython3",
   "version": "3.12.0"
  }
 },
 "nbformat": 4,
 "nbformat_minor": 5
}
